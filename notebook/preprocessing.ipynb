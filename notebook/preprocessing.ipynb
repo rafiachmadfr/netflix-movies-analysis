{
 "cells": [
  {
   "cell_type": "markdown",
   "id": "c58f9191",
   "metadata": {},
   "source": [
    "# Library"
   ]
  },
  {
   "cell_type": "code",
   "execution_count": 1502,
   "id": "f2ef7e5e",
   "metadata": {},
   "outputs": [],
   "source": [
    "import numpy as np\n",
    "import pandas as pd\n",
    "import seaborn as sns\n",
    "import matplotlib.pyplot as plt\n",
    "import ast"
   ]
  },
  {
   "cell_type": "markdown",
   "id": "5e1a780b",
   "metadata": {},
   "source": [
    "# Import Data"
   ]
  },
  {
   "cell_type": "code",
   "execution_count": 1503,
   "id": "af0aeef4",
   "metadata": {},
   "outputs": [
    {
     "data": {
      "application/vnd.microsoft.datawrangler.viewer.v0+json": {
       "columns": [
        {
         "name": "index",
         "rawType": "int64",
         "type": "integer"
        },
        {
         "name": "show_id",
         "rawType": "object",
         "type": "string"
        },
        {
         "name": "type",
         "rawType": "object",
         "type": "string"
        },
        {
         "name": "title",
         "rawType": "object",
         "type": "string"
        },
        {
         "name": "director",
         "rawType": "object",
         "type": "unknown"
        },
        {
         "name": "cast",
         "rawType": "object",
         "type": "unknown"
        },
        {
         "name": "country",
         "rawType": "object",
         "type": "unknown"
        },
        {
         "name": "date_added",
         "rawType": "object",
         "type": "unknown"
        },
        {
         "name": "release_year",
         "rawType": "int64",
         "type": "integer"
        },
        {
         "name": "rating",
         "rawType": "object",
         "type": "unknown"
        },
        {
         "name": "duration",
         "rawType": "object",
         "type": "unknown"
        },
        {
         "name": "listed_in",
         "rawType": "object",
         "type": "string"
        },
        {
         "name": "description",
         "rawType": "object",
         "type": "string"
        }
       ],
       "ref": "a1c73349-c153-4884-a74b-4af2197dd0f1",
       "rows": [
        [
         "0",
         "s1",
         "Movie",
         "Dick Johnson Is Dead",
         "Kirsten Johnson",
         null,
         "United States",
         "September 25, 2021",
         "2020",
         "PG-13",
         "90 min",
         "Documentaries",
         "As her father nears the end of his life, filmmaker Kirsten Johnson stages his death in inventive and comical ways to help them both face the inevitable."
        ],
        [
         "1",
         "s2",
         "TV Show",
         "Blood & Water",
         null,
         "Ama Qamata, Khosi Ngema, Gail Mabalane, Thabang Molaba, Dillon Windvogel, Natasha Thahane, Arno Greeff, Xolile Tshabalala, Getmore Sithole, Cindy Mahlangu, Ryle De Morny, Greteli Fincham, Sello Maake Ka-Ncube, Odwa Gwanya, Mekaila Mathys, Sandi Schultz, Duane Williams, Shamilla Miller, Patrick Mofokeng",
         "South Africa",
         "September 24, 2021",
         "2021",
         "TV-MA",
         "2 Seasons",
         "International TV Shows, TV Dramas, TV Mysteries",
         "After crossing paths at a party, a Cape Town teen sets out to prove whether a private-school swimming star is her sister who was abducted at birth."
        ],
        [
         "2",
         "s3",
         "TV Show",
         "Ganglands",
         "Julien Leclercq",
         "Sami Bouajila, Tracy Gotoas, Samuel Jouy, Nabiha Akkari, Sofia Lesaffre, Salim Kechiouche, Noureddine Farihi, Geert Van Rampelberg, Bakary Diombera",
         null,
         "September 24, 2021",
         "2021",
         "TV-MA",
         "1 Season",
         "Crime TV Shows, International TV Shows, TV Action & Adventure",
         "To protect his family from a powerful drug lord, skilled thief Mehdi and his expert team of robbers are pulled into a violent and deadly turf war."
        ],
        [
         "3",
         "s4",
         "TV Show",
         "Jailbirds New Orleans",
         null,
         null,
         null,
         "September 24, 2021",
         "2021",
         "TV-MA",
         "1 Season",
         "Docuseries, Reality TV",
         "Feuds, flirtations and toilet talk go down among the incarcerated women at the Orleans Justice Center in New Orleans on this gritty reality series."
        ],
        [
         "4",
         "s5",
         "TV Show",
         "Kota Factory",
         null,
         "Mayur More, Jitendra Kumar, Ranjan Raj, Alam Khan, Ahsaas Channa, Revathi Pillai, Urvi Singh, Arun Kumar",
         "India",
         "September 24, 2021",
         "2021",
         "TV-MA",
         "2 Seasons",
         "International TV Shows, Romantic TV Shows, TV Comedies",
         "In a city of coaching centers known to train India’s finest collegiate minds, an earnest but unexceptional student and his friends navigate campus life."
        ],
        [
         "5",
         "s6",
         "TV Show",
         "Midnight Mass",
         "Mike Flanagan",
         "Kate Siegel, Zach Gilford, Hamish Linklater, Henry Thomas, Kristin Lehman, Samantha Sloyan, Igby Rigney, Rahul Kohli, Annarah Cymone, Annabeth Gish, Alex Essoe, Rahul Abburi, Matt Biedel, Michael Trucco, Crystal Balint, Louis Oliver",
         null,
         "September 24, 2021",
         "2021",
         "TV-MA",
         "1 Season",
         "TV Dramas, TV Horror, TV Mysteries",
         "The arrival of a charismatic young priest brings glorious miracles, ominous mysteries and renewed religious fervor to a dying town desperate to believe."
        ],
        [
         "6",
         "s7",
         "Movie",
         "My Little Pony: A New Generation",
         "Robert Cullen, José Luis Ucha",
         "Vanessa Hudgens, Kimiko Glenn, James Marsden, Sofia Carson, Liza Koshy, Ken Jeong, Elizabeth Perkins, Jane Krakowski, Michael McKean, Phil LaMarr",
         null,
         "September 24, 2021",
         "2021",
         "PG",
         "91 min",
         "Children & Family Movies",
         "Equestria's divided. But a bright-eyed hero believes Earth Ponies, Pegasi and Unicorns should be pals — and, hoof to heart, she’s determined to prove it."
        ],
        [
         "7",
         "s8",
         "Movie",
         "Sankofa",
         "Haile Gerima",
         "Kofi Ghanaba, Oyafunmike Ogunlano, Alexandra Duah, Nick Medley, Mutabaruka, Afemo Omilami, Reggie Carter, Mzuri",
         "United States, Ghana, Burkina Faso, United Kingdom, Germany, Ethiopia",
         "September 24, 2021",
         "1993",
         "TV-MA",
         "125 min",
         "Dramas, Independent Movies, International Movies",
         "On a photo shoot in Ghana, an American model slips back in time, becomes enslaved on a plantation and bears witness to the agony of her ancestral past."
        ],
        [
         "8",
         "s9",
         "TV Show",
         "The Great British Baking Show",
         "Andy Devonshire",
         "Mel Giedroyc, Sue Perkins, Mary Berry, Paul Hollywood",
         "United Kingdom",
         "September 24, 2021",
         "2021",
         "TV-14",
         "9 Seasons",
         "British TV Shows, Reality TV",
         "A talented batch of amateur bakers face off in a 10-week competition, whipping up their best dishes in the hopes of being named the U.K.'s best."
        ],
        [
         "9",
         "s10",
         "Movie",
         "The Starling",
         "Theodore Melfi",
         "Melissa McCarthy, Chris O'Dowd, Kevin Kline, Timothy Olyphant, Daveed Diggs, Skyler Gisondo, Laura Harrier, Rosalind Chao, Kimberly Quinn, Loretta Devine, Ravi Kapoor",
         "United States",
         "September 24, 2021",
         "2021",
         "PG-13",
         "104 min",
         "Comedies, Dramas",
         "A woman adjusting to life after a loss contends with a feisty bird that's taken over her garden — and a husband who's struggling to find a way forward."
        ],
        [
         "10",
         "s11",
         "TV Show",
         "Vendetta: Truth, Lies and The Mafia",
         null,
         null,
         null,
         "September 24, 2021",
         "2021",
         "TV-MA",
         "1 Season",
         "Crime TV Shows, Docuseries, International TV Shows",
         "Sicily boasts a bold \"Anti-Mafia\" coalition. But what happens when those trying to bring down organized crime are accused of being criminals themselves?"
        ],
        [
         "11",
         "s12",
         "TV Show",
         "Bangkok Breaking",
         "Kongkiat Komesiri",
         "Sukollawat Kanarot, Sushar Manaying, Pavarit Mongkolpisit, Sahajak Boonthanakit, Suthipongse Thatphithakkul, Bhasaworn Bawronkirati, Daweerit Chullasapya, Waratthaya Wongchayaporn, Kittiphoom Wongpentak, Abhicha Thanachanun, Nophand Boonyai, Kittipong Khamsat, Arisara Wongchalee, Jaytiya Naiwattanakul, Pantipa Arunwattanachai, Panupan Jantanawong, Kungtap Saelim, Phumphat Chartsuriyakiat, Issara Veranitinunt, Keerati Sivakuae, Panjai Sirisuwan, Supranee Charoenpol, Suda Chuenban, Visaka Banhansupavat, Pitchatorn Santinatornkul",
         null,
         "September 23, 2021",
         "2021",
         "TV-MA",
         "1 Season",
         "Crime TV Shows, International TV Shows, TV Action & Adventure",
         "Struggling to earn a living in Bangkok, a man joins an emergency rescue service and realizes he must unravel a citywide conspiracy."
        ],
        [
         "12",
         "s13",
         "Movie",
         "Je Suis Karl",
         "Christian Schwochow",
         "Luna Wedler, Jannis Niewöhner, Milan Peschel, Edin Hasanović, Anna Fialová, Marlon Boess, Victor Boccard, Fleur Geffrier, Aziz Dyab, Mélanie Fouché, Elizaveta Maximová",
         "Germany, Czech Republic",
         "September 23, 2021",
         "2021",
         "TV-MA",
         "127 min",
         "Dramas, International Movies",
         "After most of her family is murdered in a terrorist bombing, a young woman is unknowingly lured into joining the very group that killed them."
        ],
        [
         "13",
         "s14",
         "Movie",
         "Confessions of an Invisible Girl",
         "Bruno Garotti",
         "Klara Castanho, Lucca Picon, Júlia Gomes, Marcus Bessa, Kiria Malheiros, Fernanda Concon, Gabriel Lima, Caio Cabral, Leonardo Cidade, Jade Cardozo",
         null,
         "September 22, 2021",
         "2021",
         "TV-PG",
         "91 min",
         "Children & Family Movies, Comedies",
         "When the clever but socially-awkward Tetê joins a new school, she'll do anything to fit in. But the queen bee among her classmates has other ideas."
        ],
        [
         "14",
         "s15",
         "TV Show",
         "Crime Stories: India Detectives",
         null,
         null,
         null,
         "September 22, 2021",
         "2021",
         "TV-MA",
         "1 Season",
         "British TV Shows, Crime TV Shows, Docuseries",
         "Cameras following Bengaluru police on the job offer a rare glimpse into the complex and challenging inner workings of four major crime investigations."
        ],
        [
         "15",
         "s16",
         "TV Show",
         "Dear White People",
         null,
         "Logan Browning, Brandon P. Bell, DeRon Horton, Antoinette Robertson, John Patrick Amedori, Ashley Blaine Featherson, Marque Richardson, Giancarlo Esposito",
         "United States",
         "September 22, 2021",
         "2021",
         "TV-MA",
         "4 Seasons",
         "TV Comedies, TV Dramas",
         "Students of color navigate the daily slights and slippery politics of life at an Ivy League college that's not nearly as \"post-racial\" as it thinks."
        ],
        [
         "16",
         "s17",
         "Movie",
         "Europe's Most Dangerous Man: Otto Skorzeny in Spain",
         "Pedro de Echave García, Pablo Azorín Williams",
         null,
         null,
         "September 22, 2021",
         "2020",
         "TV-MA",
         "67 min",
         "Documentaries, International Movies",
         "Declassified documents reveal the post-WWII life of Otto Skorzeny, a close Hitler ally who escaped to Spain and became an adviser to world presidents."
        ],
        [
         "17",
         "s18",
         "TV Show",
         "Falsa identidad",
         null,
         "Luis Ernesto Franco, Camila Sodi, Sergio Goyri, Samadhi Zendejas, Eduardo Yáñez, Sonya Smith, Alejandro Camacho, Azela Robinson, Uriel del Toro, Géraldine Bazán, Gabriela Roel, Marcus Ornellas",
         "Mexico",
         "September 22, 2021",
         "2020",
         "TV-MA",
         "2 Seasons",
         "Crime TV Shows, Spanish-Language TV Shows, TV Dramas",
         "Strangers Diego and Isabel flee their home in Mexico and pretend to be a married couple to escape his drug-dealing enemies and her abusive husband."
        ],
        [
         "18",
         "s19",
         "Movie",
         "Intrusion",
         "Adam Salky",
         "Freida Pinto, Logan Marshall-Green, Robert John Burke, Megan Elisabeth Kelly, Sarah Minnich, Hayes Hargrove, Mark Sivertsen, Brandon Fierro, Antonio Valles, Clint Obenchain",
         null,
         "September 22, 2021",
         "2021",
         "TV-14",
         "94 min",
         "Thrillers",
         "After a deadly home invasion at a couple’s new dream house, the traumatized wife searches for answers — and learns the real danger is just beginning."
        ],
        [
         "19",
         "s20",
         "TV Show",
         "Jaguar",
         null,
         "Blanca Suárez, Iván Marcos, Óscar Casas, Adrián Lastra, Francesc Garrido, Stefan Weinert, Julia Möller, Alicia Chojnowski",
         null,
         "September 22, 2021",
         "2021",
         "TV-MA",
         "1 Season",
         "International TV Shows, Spanish-Language TV Shows, TV Action & Adventure",
         "In the 1960s, a Holocaust survivor joins a group of self-trained spies who seek justice against Nazis fleeing to Spain to hide after WWII."
        ],
        [
         "20",
         "s21",
         "TV Show",
         "Monsters Inside: The 24 Faces of Billy Milligan",
         "Olivier Megaton",
         null,
         null,
         "September 22, 2021",
         "2021",
         "TV-14",
         "1 Season",
         "Crime TV Shows, Docuseries, International TV Shows",
         "In the late 1970s, an accused serial rapist claims multiple personalities control his behavior, setting off a legal odyssey that captivates America."
        ],
        [
         "21",
         "s22",
         "TV Show",
         "Resurrection: Ertugrul",
         null,
         "Engin Altan Düzyatan, Serdar Gökhan, Hülya Darcan, Kaan Taşaner, Esra Bilgiç, Osman Soykut, Serdar Deniz, Cengiz Coşkun, Reshad Strik, Hande Subaşı",
         "Turkey",
         "September 22, 2021",
         "2018",
         "TV-14",
         "5 Seasons",
         "International TV Shows, TV Action & Adventure, TV Dramas",
         "When a good deed unwittingly endangers his clan, a 13th-century Turkish warrior agrees to fight a sultan's enemies in exchange for new tribal land."
        ],
        [
         "22",
         "s23",
         "Movie",
         "Avvai Shanmughi",
         "K.S. Ravikumar",
         "Kamal Hassan, Meena, Gemini Ganesan, Heera Rajgopal, Nassar, S.P. Balasubrahmanyam",
         null,
         "September 21, 2021",
         "1996",
         "TV-PG",
         "161 min",
         "Comedies, International Movies",
         "Newly divorced and denied visitation rights with his daughter, a doting father disguises himself as a gray-haired nanny in order to spend time with her."
        ],
        [
         "23",
         "s24",
         "Movie",
         "Go! Go! Cory Carson: Chrissy Takes the Wheel",
         "Alex Woo, Stanley Moore",
         "Maisie Benson, Paul Killam, Kerry Gudjohnsen, AC Lim",
         null,
         "September 21, 2021",
         "2021",
         "TV-Y",
         "61 min",
         "Children & Family Movies",
         "From arcade games to sled days and hiccup cures, Cory Carson’s curious little sister Chrissy speeds off on her own for fun and adventure all over town!"
        ],
        [
         "24",
         "s25",
         "Movie",
         "Jeans",
         "S. Shankar",
         "Prashanth, Aishwarya Rai Bachchan, Sri Lakshmi, Nassar",
         "India",
         "September 21, 2021",
         "1998",
         "TV-14",
         "166 min",
         "Comedies, International Movies, Romantic Movies",
         "When the father of the man she loves insists that his twin sons marry twin sisters, a woman creates an alter ego that might be a bit too convincing."
        ],
        [
         "25",
         "s26",
         "TV Show",
         "Love on the Spectrum",
         null,
         "Brooke Satchwell",
         "Australia",
         "September 21, 2021",
         "2021",
         "TV-14",
         "2 Seasons",
         "Docuseries, International TV Shows, Reality TV",
         "Finding love can be hard for anyone. For young adults on the autism spectrum, exploring the unpredictable world of dating is even more complicated."
        ],
        [
         "26",
         "s27",
         "Movie",
         "Minsara Kanavu",
         "Rajiv Menon",
         "Arvind Swamy, Kajol, Prabhu Deva, Nassar, S.P. Balasubrahmanyam, Girish Karnad",
         null,
         "September 21, 2021",
         "1997",
         "TV-PG",
         "147 min",
         "Comedies, International Movies, Music & Musicals",
         "A tangled love triangle ensues when a man falls for a woman studying to become a nun — and she falls for the friend he enlists to help him pursue her."
        ],
        [
         "27",
         "s28",
         "Movie",
         "Grown Ups",
         "Dennis Dugan",
         "Adam Sandler, Kevin James, Chris Rock, David Spade, Rob Schneider, Salma Hayek, Maria Bello, Maya Rudolph, Colin Quinn, Tim Meadows, Joyce Van Patten",
         "United States",
         "September 20, 2021",
         "2010",
         "PG-13",
         "103 min",
         "Comedies",
         "Mourning the loss of their beloved junior high basketball coach, five middle-aged pals reunite at a lake house and rediscover the joys of being a kid."
        ],
        [
         "28",
         "s29",
         "Movie",
         "Dark Skies",
         "Scott Stewart",
         "Keri Russell, Josh Hamilton, J.K. Simmons, Dakota Goyo, Kadan Rockett, L.J. Benet, Rich Hutchman, Myndy Crist, Annie Thurman, Jake Brennan",
         "United States",
         "September 19, 2021",
         "2013",
         "PG-13",
         "97 min",
         "Horror Movies, Sci-Fi & Fantasy",
         "A family’s idyllic suburban life shatters when an alien force invades their home, and as they struggle to convince others of the deadly threat."
        ],
        [
         "29",
         "s30",
         "Movie",
         "Paranoia",
         "Robert Luketic",
         "Liam Hemsworth, Gary Oldman, Amber Heard, Harrison Ford, Lucas Till, Embeth Davidtz, Julian McMahon, Josh Holloway, Richard Dreyfuss, Angela Sarafyan",
         "United States, India, France",
         "September 19, 2021",
         "2013",
         "PG-13",
         "106 min",
         "Thrillers",
         "Blackmailed by his company's CEO, a low-level employee finds himself forced to spy on the boss's rival and former mentor."
        ],
        [
         "30",
         "s31",
         "Movie",
         "Ankahi Kahaniya",
         "Ashwiny Iyer Tiwari, Abhishek Chaubey, Saket Chaudhary",
         "Abhishek Banerjee, Rinku Rajguru, Delzad Hiwale, Kunal Kapoor, Zoya Hussain, Nikhil Dwivedi, Palomi Ghosh",
         null,
         "September 17, 2021",
         "2021",
         "TV-14",
         "111 min",
         "Dramas, Independent Movies, International Movies",
         "As big city life buzzes around them, lonely souls discover surprising sources of connection and companionship in three tales of love, loss and longing."
        ],
        [
         "31",
         "s32",
         "TV Show",
         "Chicago Party Aunt",
         null,
         "Lauren Ash, Rory O'Malley, RuPaul Charles, Jill Talley, Ike Barinholtz, Jon Barinholtz, Matthew Craig, Bob Odenkirk, Mike Hagerty, Katie Rich, Chris Witaske",
         null,
         "September 17, 2021",
         "2021",
         "TV-MA",
         "1 Season",
         "TV Comedies",
         "Chicago Party Aunt Diane is an idolized troublemaker with a talent for avoiding adulthood — and a soft spot for her soul-searching nephew."
        ],
        [
         "32",
         "s33",
         "TV Show",
         "Sex Education",
         null,
         "Asa Butterfield, Gillian Anderson, Ncuti Gatwa, Emma Mackey, Connor Swindells, Kedar Williams-Stirling, Alistair Petrie",
         "United Kingdom",
         "September 17, 2021",
         "2020",
         "TV-MA",
         "3 Seasons",
         "British TV Shows, International TV Shows, TV Comedies",
         "Insecure Otis has all the answers when it comes to sex advice, thanks to his therapist mom. So rebel Maeve proposes a school sex-therapy clinic."
        ],
        [
         "33",
         "s34",
         "TV Show",
         "Squid Game",
         null,
         "Lee Jung-jae, Park Hae-soo, Wi Ha-jun, Oh Young-soo, Jung Ho-yeon, Heo Sung-tae, Kim Joo-ryoung, Tripathi Anupam, You Seong-joo, Lee You-mi",
         null,
         "September 17, 2021",
         "2021",
         "TV-MA",
         "1 Season",
         "International TV Shows, TV Dramas, TV Thrillers",
         "Hundreds of cash-strapped players accept a strange invitation to compete in children's games. Inside, a tempting prize awaits — with deadly high stakes."
        ],
        [
         "34",
         "s35",
         "TV Show",
         "Tayo and Little Wizards",
         null,
         "Dami Lee, Jason Lee, Bommie Catherine Han, Jennifer Waescher, Nancy Kim",
         null,
         "September 17, 2021",
         "2020",
         "TV-Y7",
         "1 Season",
         "Kids' TV",
         "Tayo speeds into an adventure when his friends get kidnapped by evil magicians invading their city in search of a magical gemstone."
        ],
        [
         "35",
         "s36",
         "Movie",
         "The Father Who Moves Mountains",
         "Daniel Sandu",
         "Adrian Titieni, Elena Purea, Judith State, Valeriu Andriuță, Tudor Smoleanu, Virgil Aioanei, Radu Botar, Petronela Grigorescu, Bogdan Nechifor, Cristian Bota",
         null,
         "September 17, 2021",
         "2021",
         "TV-MA",
         "110 min",
         "Dramas, International Movies, Thrillers",
         "When his son goes missing during a snowy hike in the mountains, a retired intelligence officer will stop at nothing — and risk everything — to find him."
        ],
        [
         "36",
         "s37",
         "Movie",
         "The Stronghold",
         "Cédric Jimenez",
         "Gilles Lellouche, Karim Leklou, François Civil, Adèle Exarchopoulos, Kenza Fortas, Cyril Lecomte, Michaël Abiteboul, Idir Azougli, Vincent Darmuzey, Jean-Yves Berteloot",
         null,
         "September 17, 2021",
         "2021",
         "TV-MA",
         "105 min",
         "Action & Adventure, Dramas, International Movies",
         "Tired of the small-time grind, three Marseille cops get a chance to bust a major drug network. But lines blur when a key informant makes a big ask."
        ],
        [
         "37",
         "s38",
         "TV Show",
         "Angry Birds",
         null,
         "Antti Pääkkönen, Heljä Heikkinen, Lynne Guaglione, Pasi Ruohonen, Rauno Ahonen",
         "Finland",
         "September 16, 2021",
         "2018",
         "TV-Y7",
         "1 Season",
         "Kids' TV, TV Comedies",
         "Birds Red, Chuck and their feathered friends have lots of adventures while guarding eggs in their nest that pesky pigs keep trying to steal."
        ],
        [
         "38",
         "s39",
         "Movie",
         "Birth of the Dragon",
         "George Nolfi",
         "Billy Magnussen, Ron Yuan, Qu Jingjing, Terry Chen, Vanness Wu, Jin Xing, Philip Ng, Xia Yu, Yu Xia",
         "China, Canada, United States",
         "September 16, 2021",
         "2017",
         "PG-13",
         "96 min",
         "Action & Adventure, Dramas",
         "A young Bruce Lee angers kung fu traditionalists by teaching outsiders, leading to a showdown with a Shaolin master in this film based on real events."
        ],
        [
         "39",
         "s40",
         "TV Show",
         "Chhota Bheem",
         null,
         "Vatsal Dubey, Julie Tejwani, Rupa Bhimani, Jigna Bhardwaj, Rajesh Kava, Mousam, Swapnil",
         "India",
         "September 16, 2021",
         "2021",
         "TV-Y7",
         "3 Seasons",
         "Kids' TV",
         "A brave, energetic little boy with superhuman powers leads his friends on exciting adventures to guard their fellow Dholakpur villagers from evil."
        ],
        [
         "40",
         "s41",
         "TV Show",
         "He-Man and the Masters of the Universe",
         null,
         "Yuri Lowenthal, Kimberly Brooks, Antony Del Rio, Trevor Devall, Ben Diskin, Grey Griffin, David Kaye, Tom Kenny, Judy Alice Lee, Roger Craig Smith, Fred Tatasciore",
         "United States",
         "September 16, 2021",
         "2021",
         "TV-Y7",
         "1 Season",
         "Kids' TV, TV Sci-Fi & Fantasy",
         "Mighty teen Adam and his heroic squad of misfits discover the legendary power of Grayskull — and their destiny to defend Eternia from sinister Skeletor."
        ],
        [
         "41",
         "s42",
         "Movie",
         "Jaws",
         "Steven Spielberg",
         "Roy Scheider, Robert Shaw, Richard Dreyfuss, Lorraine Gary, Murray Hamilton, Carl Gottlieb, Jeffrey Kramer, Susan Backlinie, Jonathan Filley, Ted Grossman",
         "United States",
         "September 16, 2021",
         "1975",
         "PG",
         "124 min",
         "Action & Adventure, Classic Movies, Dramas",
         "When an insatiable great white shark terrorizes Amity Island, a police chief, an oceanographer and a grizzled shark hunter seek to destroy the beast."
        ],
        [
         "42",
         "s43",
         "Movie",
         "Jaws 2",
         "Jeannot Szwarc",
         "Roy Scheider, Lorraine Gary, Murray Hamilton, Joseph Mascolo, Jeffrey Kramer, Collin Wilcox Paxton, Ann Dusenberry, Mark Gruner, Barry Coe, Susan French",
         "United States",
         "September 16, 2021",
         "1978",
         "PG",
         "116 min",
         "Dramas, Horror Movies, Thrillers",
         "Four years after the last deadly shark attacks, police chief Martin Brody fights to protect Amity Island from another killer great white."
        ],
        [
         "43",
         "s44",
         "Movie",
         "Jaws 3",
         "Joe Alves",
         "Dennis Quaid, Bess Armstrong, Simon MacCorkindale, Louis Gossett Jr., John Putch, Lea Thompson, P.H. Moriarty, Dan Blasko, Liz Morris, Lisa Maurer",
         "United States",
         "September 16, 2021",
         "1983",
         "PG",
         "98 min",
         "Action & Adventure, Horror Movies, Thrillers",
         "After the staff of a marine theme park try to capture a young great white shark, they discover its mother has invaded the enclosure and is out for blood."
        ],
        [
         "44",
         "s45",
         "Movie",
         "Jaws: The Revenge",
         "Joseph Sargent",
         "Lorraine Gary, Lance Guest, Mario Van Peebles, Karen Young, Michael Caine, Judith Barsi, Mitchell Anderson, Lynn Whitfield",
         "United States",
         "September 16, 2021",
         "1987",
         "PG-13",
         "91 min",
         "Action & Adventure, Horror Movies, Thrillers",
         "After another deadly shark attack, Ellen Brody has had enough of Amity Island and moves to the Caribbean – but a great white shark follows her there."
        ],
        [
         "45",
         "s46",
         "Movie",
         "My Heroes Were Cowboys",
         "Tyler Greco",
         null,
         null,
         "September 16, 2021",
         "2021",
         "PG",
         "23 min",
         "Documentaries",
         "Robin Wiltshire's painful childhood was rescued by Westerns. Now he lives on the frontier of his dreams, training the horses he loves for the big screen."
        ],
        [
         "46",
         "s47",
         "Movie",
         "Safe House",
         "Daniel Espinosa",
         "Denzel Washington, Ryan Reynolds, Vera Farmiga, Brendan Gleeson, Sam Shepard, Rubén Blades, Nora Arnezeder, Robert Patrick, Liam Cunningham, Joel Kinnaman",
         "South Africa, United States, Japan",
         "September 16, 2021",
         "2012",
         "R",
         "115 min",
         "Action & Adventure",
         "Young CIA operative Matt Weston must get a dangerous criminal out of an agency safe house that's come under attack and get him to a securer location."
        ],
        [
         "47",
         "s48",
         "TV Show",
         "The Smart Money Woman",
         "Bunmi Ajakaiye",
         "Osas Ighodaro, Ini Dima-Okojie, Kemi Lala Akindoju, Toni Tones, Ebenezer Eno, Eso Okolocha DIke, Patrick Diabuah, Karibi Fubara, Temisan Emmanuel, Timini Egbuson",
         null,
         "September 16, 2021",
         "2020",
         "TV-MA",
         "1 Season",
         "International TV Shows, Romantic TV Shows, TV Comedies",
         "Five glamorous millennials strive for success as they juggle careers, finances, love and friendships. Based on Arese Ugwu's 2016 best-selling novel."
        ],
        [
         "48",
         "s49",
         "Movie",
         "Training Day",
         "Antoine Fuqua",
         "Denzel Washington, Ethan Hawke, Scott Glenn, Tom Berenger, Harris Yulin, Raymond J. Barry, Cliff Curtis, Dr. Dre, Snoop Dogg, Macy Gray, Eva Mendes",
         "United States",
         "September 16, 2021",
         "2001",
         "R",
         "122 min",
         "Dramas, Thrillers",
         "A rookie cop with one day to prove himself to a veteran LAPD narcotics officer receives a crash course in his mentor's questionable brand of justice."
        ],
        [
         "49",
         "s50",
         "TV Show",
         "Castle and Castle",
         null,
         "Richard Mofe-Damijo, Dakore Akande, Bimbo Manuel, Blossom Chukwujekwu, Deyemi Okanlawon, Etim Effiong, Denola Grey, Duke Akintola, Eku Edewor, Ade Laoye, Anee Icha, Kevin Ushi, Jude Chukwuka, Amanda Afolabi",
         "Nigeria",
         "September 15, 2021",
         "2021",
         "TV-MA",
         "2 Seasons",
         "International TV Shows, TV Dramas",
         "A pair of high-powered, successful lawyers find themselves defending opposite interests of the justice system, causing a strain on their happy marriage."
        ]
       ],
       "shape": {
        "columns": 12,
        "rows": 8807
       }
      },
      "text/html": [
       "<div>\n",
       "<style scoped>\n",
       "    .dataframe tbody tr th:only-of-type {\n",
       "        vertical-align: middle;\n",
       "    }\n",
       "\n",
       "    .dataframe tbody tr th {\n",
       "        vertical-align: top;\n",
       "    }\n",
       "\n",
       "    .dataframe thead th {\n",
       "        text-align: right;\n",
       "    }\n",
       "</style>\n",
       "<table border=\"1\" class=\"dataframe\">\n",
       "  <thead>\n",
       "    <tr style=\"text-align: right;\">\n",
       "      <th></th>\n",
       "      <th>show_id</th>\n",
       "      <th>type</th>\n",
       "      <th>title</th>\n",
       "      <th>director</th>\n",
       "      <th>cast</th>\n",
       "      <th>country</th>\n",
       "      <th>date_added</th>\n",
       "      <th>release_year</th>\n",
       "      <th>rating</th>\n",
       "      <th>duration</th>\n",
       "      <th>listed_in</th>\n",
       "      <th>description</th>\n",
       "    </tr>\n",
       "  </thead>\n",
       "  <tbody>\n",
       "    <tr>\n",
       "      <th>0</th>\n",
       "      <td>s1</td>\n",
       "      <td>Movie</td>\n",
       "      <td>Dick Johnson Is Dead</td>\n",
       "      <td>Kirsten Johnson</td>\n",
       "      <td>NaN</td>\n",
       "      <td>United States</td>\n",
       "      <td>September 25, 2021</td>\n",
       "      <td>2020</td>\n",
       "      <td>PG-13</td>\n",
       "      <td>90 min</td>\n",
       "      <td>Documentaries</td>\n",
       "      <td>As her father nears the end of his life, filmm...</td>\n",
       "    </tr>\n",
       "    <tr>\n",
       "      <th>1</th>\n",
       "      <td>s2</td>\n",
       "      <td>TV Show</td>\n",
       "      <td>Blood &amp; Water</td>\n",
       "      <td>NaN</td>\n",
       "      <td>Ama Qamata, Khosi Ngema, Gail Mabalane, Thaban...</td>\n",
       "      <td>South Africa</td>\n",
       "      <td>September 24, 2021</td>\n",
       "      <td>2021</td>\n",
       "      <td>TV-MA</td>\n",
       "      <td>2 Seasons</td>\n",
       "      <td>International TV Shows, TV Dramas, TV Mysteries</td>\n",
       "      <td>After crossing paths at a party, a Cape Town t...</td>\n",
       "    </tr>\n",
       "    <tr>\n",
       "      <th>2</th>\n",
       "      <td>s3</td>\n",
       "      <td>TV Show</td>\n",
       "      <td>Ganglands</td>\n",
       "      <td>Julien Leclercq</td>\n",
       "      <td>Sami Bouajila, Tracy Gotoas, Samuel Jouy, Nabi...</td>\n",
       "      <td>NaN</td>\n",
       "      <td>September 24, 2021</td>\n",
       "      <td>2021</td>\n",
       "      <td>TV-MA</td>\n",
       "      <td>1 Season</td>\n",
       "      <td>Crime TV Shows, International TV Shows, TV Act...</td>\n",
       "      <td>To protect his family from a powerful drug lor...</td>\n",
       "    </tr>\n",
       "    <tr>\n",
       "      <th>3</th>\n",
       "      <td>s4</td>\n",
       "      <td>TV Show</td>\n",
       "      <td>Jailbirds New Orleans</td>\n",
       "      <td>NaN</td>\n",
       "      <td>NaN</td>\n",
       "      <td>NaN</td>\n",
       "      <td>September 24, 2021</td>\n",
       "      <td>2021</td>\n",
       "      <td>TV-MA</td>\n",
       "      <td>1 Season</td>\n",
       "      <td>Docuseries, Reality TV</td>\n",
       "      <td>Feuds, flirtations and toilet talk go down amo...</td>\n",
       "    </tr>\n",
       "    <tr>\n",
       "      <th>4</th>\n",
       "      <td>s5</td>\n",
       "      <td>TV Show</td>\n",
       "      <td>Kota Factory</td>\n",
       "      <td>NaN</td>\n",
       "      <td>Mayur More, Jitendra Kumar, Ranjan Raj, Alam K...</td>\n",
       "      <td>India</td>\n",
       "      <td>September 24, 2021</td>\n",
       "      <td>2021</td>\n",
       "      <td>TV-MA</td>\n",
       "      <td>2 Seasons</td>\n",
       "      <td>International TV Shows, Romantic TV Shows, TV ...</td>\n",
       "      <td>In a city of coaching centers known to train I...</td>\n",
       "    </tr>\n",
       "    <tr>\n",
       "      <th>...</th>\n",
       "      <td>...</td>\n",
       "      <td>...</td>\n",
       "      <td>...</td>\n",
       "      <td>...</td>\n",
       "      <td>...</td>\n",
       "      <td>...</td>\n",
       "      <td>...</td>\n",
       "      <td>...</td>\n",
       "      <td>...</td>\n",
       "      <td>...</td>\n",
       "      <td>...</td>\n",
       "      <td>...</td>\n",
       "    </tr>\n",
       "    <tr>\n",
       "      <th>8802</th>\n",
       "      <td>s8803</td>\n",
       "      <td>Movie</td>\n",
       "      <td>Zodiac</td>\n",
       "      <td>David Fincher</td>\n",
       "      <td>Mark Ruffalo, Jake Gyllenhaal, Robert Downey J...</td>\n",
       "      <td>United States</td>\n",
       "      <td>November 20, 2019</td>\n",
       "      <td>2007</td>\n",
       "      <td>R</td>\n",
       "      <td>158 min</td>\n",
       "      <td>Cult Movies, Dramas, Thrillers</td>\n",
       "      <td>A political cartoonist, a crime reporter and a...</td>\n",
       "    </tr>\n",
       "    <tr>\n",
       "      <th>8803</th>\n",
       "      <td>s8804</td>\n",
       "      <td>TV Show</td>\n",
       "      <td>Zombie Dumb</td>\n",
       "      <td>NaN</td>\n",
       "      <td>NaN</td>\n",
       "      <td>NaN</td>\n",
       "      <td>July 1, 2019</td>\n",
       "      <td>2018</td>\n",
       "      <td>TV-Y7</td>\n",
       "      <td>2 Seasons</td>\n",
       "      <td>Kids' TV, Korean TV Shows, TV Comedies</td>\n",
       "      <td>While living alone in a spooky town, a young g...</td>\n",
       "    </tr>\n",
       "    <tr>\n",
       "      <th>8804</th>\n",
       "      <td>s8805</td>\n",
       "      <td>Movie</td>\n",
       "      <td>Zombieland</td>\n",
       "      <td>Ruben Fleischer</td>\n",
       "      <td>Jesse Eisenberg, Woody Harrelson, Emma Stone, ...</td>\n",
       "      <td>United States</td>\n",
       "      <td>November 1, 2019</td>\n",
       "      <td>2009</td>\n",
       "      <td>R</td>\n",
       "      <td>88 min</td>\n",
       "      <td>Comedies, Horror Movies</td>\n",
       "      <td>Looking to survive in a world taken over by zo...</td>\n",
       "    </tr>\n",
       "    <tr>\n",
       "      <th>8805</th>\n",
       "      <td>s8806</td>\n",
       "      <td>Movie</td>\n",
       "      <td>Zoom</td>\n",
       "      <td>Peter Hewitt</td>\n",
       "      <td>Tim Allen, Courteney Cox, Chevy Chase, Kate Ma...</td>\n",
       "      <td>United States</td>\n",
       "      <td>January 11, 2020</td>\n",
       "      <td>2006</td>\n",
       "      <td>PG</td>\n",
       "      <td>88 min</td>\n",
       "      <td>Children &amp; Family Movies, Comedies</td>\n",
       "      <td>Dragged from civilian life, a former superhero...</td>\n",
       "    </tr>\n",
       "    <tr>\n",
       "      <th>8806</th>\n",
       "      <td>s8807</td>\n",
       "      <td>Movie</td>\n",
       "      <td>Zubaan</td>\n",
       "      <td>Mozez Singh</td>\n",
       "      <td>Vicky Kaushal, Sarah-Jane Dias, Raaghav Chanan...</td>\n",
       "      <td>India</td>\n",
       "      <td>March 2, 2019</td>\n",
       "      <td>2015</td>\n",
       "      <td>TV-14</td>\n",
       "      <td>111 min</td>\n",
       "      <td>Dramas, International Movies, Music &amp; Musicals</td>\n",
       "      <td>A scrappy but poor boy worms his way into a ty...</td>\n",
       "    </tr>\n",
       "  </tbody>\n",
       "</table>\n",
       "<p>8807 rows × 12 columns</p>\n",
       "</div>"
      ],
      "text/plain": [
       "     show_id     type                  title         director  \\\n",
       "0         s1    Movie   Dick Johnson Is Dead  Kirsten Johnson   \n",
       "1         s2  TV Show          Blood & Water              NaN   \n",
       "2         s3  TV Show              Ganglands  Julien Leclercq   \n",
       "3         s4  TV Show  Jailbirds New Orleans              NaN   \n",
       "4         s5  TV Show           Kota Factory              NaN   \n",
       "...      ...      ...                    ...              ...   \n",
       "8802   s8803    Movie                 Zodiac    David Fincher   \n",
       "8803   s8804  TV Show            Zombie Dumb              NaN   \n",
       "8804   s8805    Movie             Zombieland  Ruben Fleischer   \n",
       "8805   s8806    Movie                   Zoom     Peter Hewitt   \n",
       "8806   s8807    Movie                 Zubaan      Mozez Singh   \n",
       "\n",
       "                                                   cast        country  \\\n",
       "0                                                   NaN  United States   \n",
       "1     Ama Qamata, Khosi Ngema, Gail Mabalane, Thaban...   South Africa   \n",
       "2     Sami Bouajila, Tracy Gotoas, Samuel Jouy, Nabi...            NaN   \n",
       "3                                                   NaN            NaN   \n",
       "4     Mayur More, Jitendra Kumar, Ranjan Raj, Alam K...          India   \n",
       "...                                                 ...            ...   \n",
       "8802  Mark Ruffalo, Jake Gyllenhaal, Robert Downey J...  United States   \n",
       "8803                                                NaN            NaN   \n",
       "8804  Jesse Eisenberg, Woody Harrelson, Emma Stone, ...  United States   \n",
       "8805  Tim Allen, Courteney Cox, Chevy Chase, Kate Ma...  United States   \n",
       "8806  Vicky Kaushal, Sarah-Jane Dias, Raaghav Chanan...          India   \n",
       "\n",
       "              date_added  release_year rating   duration  \\\n",
       "0     September 25, 2021          2020  PG-13     90 min   \n",
       "1     September 24, 2021          2021  TV-MA  2 Seasons   \n",
       "2     September 24, 2021          2021  TV-MA   1 Season   \n",
       "3     September 24, 2021          2021  TV-MA   1 Season   \n",
       "4     September 24, 2021          2021  TV-MA  2 Seasons   \n",
       "...                  ...           ...    ...        ...   \n",
       "8802   November 20, 2019          2007      R    158 min   \n",
       "8803        July 1, 2019          2018  TV-Y7  2 Seasons   \n",
       "8804    November 1, 2019          2009      R     88 min   \n",
       "8805    January 11, 2020          2006     PG     88 min   \n",
       "8806       March 2, 2019          2015  TV-14    111 min   \n",
       "\n",
       "                                              listed_in  \\\n",
       "0                                         Documentaries   \n",
       "1       International TV Shows, TV Dramas, TV Mysteries   \n",
       "2     Crime TV Shows, International TV Shows, TV Act...   \n",
       "3                                Docuseries, Reality TV   \n",
       "4     International TV Shows, Romantic TV Shows, TV ...   \n",
       "...                                                 ...   \n",
       "8802                     Cult Movies, Dramas, Thrillers   \n",
       "8803             Kids' TV, Korean TV Shows, TV Comedies   \n",
       "8804                            Comedies, Horror Movies   \n",
       "8805                 Children & Family Movies, Comedies   \n",
       "8806     Dramas, International Movies, Music & Musicals   \n",
       "\n",
       "                                            description  \n",
       "0     As her father nears the end of his life, filmm...  \n",
       "1     After crossing paths at a party, a Cape Town t...  \n",
       "2     To protect his family from a powerful drug lor...  \n",
       "3     Feuds, flirtations and toilet talk go down amo...  \n",
       "4     In a city of coaching centers known to train I...  \n",
       "...                                                 ...  \n",
       "8802  A political cartoonist, a crime reporter and a...  \n",
       "8803  While living alone in a spooky town, a young g...  \n",
       "8804  Looking to survive in a world taken over by zo...  \n",
       "8805  Dragged from civilian life, a former superhero...  \n",
       "8806  A scrappy but poor boy worms his way into a ty...  \n",
       "\n",
       "[8807 rows x 12 columns]"
      ]
     },
     "execution_count": 1503,
     "metadata": {},
     "output_type": "execute_result"
    }
   ],
   "source": [
    "df_data = pd.read_csv('../data/data-raw/netflix_dataset.csv', delimiter=',', encoding='utf-8')\n",
    "df_data"
   ]
  },
  {
   "cell_type": "markdown",
   "id": "5f2118a8",
   "metadata": {},
   "source": [
    "# Simple EDA"
   ]
  },
  {
   "cell_type": "code",
   "execution_count": 1504,
   "id": "234a4b40",
   "metadata": {},
   "outputs": [
    {
     "data": {
      "application/vnd.microsoft.datawrangler.viewer.v0+json": {
       "columns": [
        {
         "name": "index",
         "rawType": "object",
         "type": "string"
        },
        {
         "name": "0",
         "rawType": "object",
         "type": "unknown"
        }
       ],
       "ref": "96b16ec8-c3ce-4791-9d96-3a6c58b60b8a",
       "rows": [
        [
         "show_id",
         "object"
        ],
        [
         "type",
         "object"
        ],
        [
         "title",
         "object"
        ],
        [
         "director",
         "object"
        ],
        [
         "cast",
         "object"
        ],
        [
         "country",
         "object"
        ],
        [
         "date_added",
         "object"
        ],
        [
         "release_year",
         "int64"
        ],
        [
         "rating",
         "object"
        ],
        [
         "duration",
         "object"
        ],
        [
         "listed_in",
         "object"
        ],
        [
         "description",
         "object"
        ]
       ],
       "shape": {
        "columns": 1,
        "rows": 12
       }
      },
      "text/plain": [
       "show_id         object\n",
       "type            object\n",
       "title           object\n",
       "director        object\n",
       "cast            object\n",
       "country         object\n",
       "date_added      object\n",
       "release_year     int64\n",
       "rating          object\n",
       "duration        object\n",
       "listed_in       object\n",
       "description     object\n",
       "dtype: object"
      ]
     },
     "execution_count": 1504,
     "metadata": {},
     "output_type": "execute_result"
    }
   ],
   "source": [
    "df_data.dtypes"
   ]
  },
  {
   "cell_type": "code",
   "execution_count": 1505,
   "id": "80703acb",
   "metadata": {},
   "outputs": [
    {
     "data": {
      "text/plain": [
       "(8807, 12)"
      ]
     },
     "execution_count": 1505,
     "metadata": {},
     "output_type": "execute_result"
    }
   ],
   "source": [
    "df_data.shape"
   ]
  },
  {
   "cell_type": "code",
   "execution_count": 1506,
   "id": "82bc61db",
   "metadata": {},
   "outputs": [
    {
     "data": {
      "application/vnd.microsoft.datawrangler.viewer.v0+json": {
       "columns": [
        {
         "name": "index",
         "rawType": "object",
         "type": "string"
        },
        {
         "name": "0",
         "rawType": "int64",
         "type": "integer"
        }
       ],
       "ref": "61d8ad2b-2ef5-4d44-8776-b0173b157f81",
       "rows": [
        [
         "show_id",
         "0"
        ],
        [
         "type",
         "0"
        ],
        [
         "title",
         "0"
        ],
        [
         "director",
         "2634"
        ],
        [
         "cast",
         "825"
        ],
        [
         "country",
         "831"
        ],
        [
         "date_added",
         "10"
        ],
        [
         "release_year",
         "0"
        ],
        [
         "rating",
         "4"
        ],
        [
         "duration",
         "3"
        ],
        [
         "listed_in",
         "0"
        ],
        [
         "description",
         "0"
        ]
       ],
       "shape": {
        "columns": 1,
        "rows": 12
       }
      },
      "text/plain": [
       "show_id            0\n",
       "type               0\n",
       "title              0\n",
       "director        2634\n",
       "cast             825\n",
       "country          831\n",
       "date_added        10\n",
       "release_year       0\n",
       "rating             4\n",
       "duration           3\n",
       "listed_in          0\n",
       "description        0\n",
       "dtype: int64"
      ]
     },
     "execution_count": 1506,
     "metadata": {},
     "output_type": "execute_result"
    }
   ],
   "source": [
    "df_data.isnull().sum()"
   ]
  },
  {
   "cell_type": "code",
   "execution_count": 1507,
   "id": "ac1cd778",
   "metadata": {},
   "outputs": [
    {
     "data": {
      "text/plain": [
       "np.int64(0)"
      ]
     },
     "execution_count": 1507,
     "metadata": {},
     "output_type": "execute_result"
    }
   ],
   "source": [
    "df_data.duplicated().sum()"
   ]
  },
  {
   "cell_type": "code",
   "execution_count": 1508,
   "id": "034e9b3c",
   "metadata": {},
   "outputs": [
    {
     "data": {
      "application/vnd.microsoft.datawrangler.viewer.v0+json": {
       "columns": [
        {
         "name": "index",
         "rawType": "int64",
         "type": "integer"
        },
        {
         "name": "kolom",
         "rawType": "object",
         "type": "string"
        },
        {
         "name": "jumlah_data_unik",
         "rawType": "int64",
         "type": "integer"
        }
       ],
       "ref": "ade22ca1-a28f-403e-99a5-f1b6f899df0a",
       "rows": [
        [
         "0",
         "show_id",
         "8807"
        ],
        [
         "1",
         "type",
         "2"
        ],
        [
         "2",
         "title",
         "8807"
        ],
        [
         "3",
         "director",
         "4528"
        ],
        [
         "4",
         "cast",
         "7692"
        ],
        [
         "5",
         "country",
         "748"
        ],
        [
         "6",
         "date_added",
         "1767"
        ],
        [
         "7",
         "release_year",
         "74"
        ],
        [
         "8",
         "rating",
         "17"
        ],
        [
         "9",
         "duration",
         "220"
        ],
        [
         "10",
         "listed_in",
         "514"
        ],
        [
         "11",
         "description",
         "8775"
        ]
       ],
       "shape": {
        "columns": 2,
        "rows": 12
       }
      },
      "text/html": [
       "<div>\n",
       "<style scoped>\n",
       "    .dataframe tbody tr th:only-of-type {\n",
       "        vertical-align: middle;\n",
       "    }\n",
       "\n",
       "    .dataframe tbody tr th {\n",
       "        vertical-align: top;\n",
       "    }\n",
       "\n",
       "    .dataframe thead th {\n",
       "        text-align: right;\n",
       "    }\n",
       "</style>\n",
       "<table border=\"1\" class=\"dataframe\">\n",
       "  <thead>\n",
       "    <tr style=\"text-align: right;\">\n",
       "      <th></th>\n",
       "      <th>kolom</th>\n",
       "      <th>jumlah_data_unik</th>\n",
       "    </tr>\n",
       "  </thead>\n",
       "  <tbody>\n",
       "    <tr>\n",
       "      <th>0</th>\n",
       "      <td>show_id</td>\n",
       "      <td>8807</td>\n",
       "    </tr>\n",
       "    <tr>\n",
       "      <th>1</th>\n",
       "      <td>type</td>\n",
       "      <td>2</td>\n",
       "    </tr>\n",
       "    <tr>\n",
       "      <th>2</th>\n",
       "      <td>title</td>\n",
       "      <td>8807</td>\n",
       "    </tr>\n",
       "    <tr>\n",
       "      <th>3</th>\n",
       "      <td>director</td>\n",
       "      <td>4528</td>\n",
       "    </tr>\n",
       "    <tr>\n",
       "      <th>4</th>\n",
       "      <td>cast</td>\n",
       "      <td>7692</td>\n",
       "    </tr>\n",
       "    <tr>\n",
       "      <th>5</th>\n",
       "      <td>country</td>\n",
       "      <td>748</td>\n",
       "    </tr>\n",
       "    <tr>\n",
       "      <th>6</th>\n",
       "      <td>date_added</td>\n",
       "      <td>1767</td>\n",
       "    </tr>\n",
       "    <tr>\n",
       "      <th>7</th>\n",
       "      <td>release_year</td>\n",
       "      <td>74</td>\n",
       "    </tr>\n",
       "    <tr>\n",
       "      <th>8</th>\n",
       "      <td>rating</td>\n",
       "      <td>17</td>\n",
       "    </tr>\n",
       "    <tr>\n",
       "      <th>9</th>\n",
       "      <td>duration</td>\n",
       "      <td>220</td>\n",
       "    </tr>\n",
       "    <tr>\n",
       "      <th>10</th>\n",
       "      <td>listed_in</td>\n",
       "      <td>514</td>\n",
       "    </tr>\n",
       "    <tr>\n",
       "      <th>11</th>\n",
       "      <td>description</td>\n",
       "      <td>8775</td>\n",
       "    </tr>\n",
       "  </tbody>\n",
       "</table>\n",
       "</div>"
      ],
      "text/plain": [
       "           kolom  jumlah_data_unik\n",
       "0        show_id              8807\n",
       "1           type                 2\n",
       "2          title              8807\n",
       "3       director              4528\n",
       "4           cast              7692\n",
       "5        country               748\n",
       "6     date_added              1767\n",
       "7   release_year                74\n",
       "8         rating                17\n",
       "9       duration               220\n",
       "10     listed_in               514\n",
       "11   description              8775"
      ]
     },
     "execution_count": 1508,
     "metadata": {},
     "output_type": "execute_result"
    }
   ],
   "source": [
    "unique_counts = pd.DataFrame({\n",
    "    'kolom': df_data.columns,\n",
    "    'jumlah_data_unik': [df_data[col].nunique() for col in df_data.columns]\n",
    "})\n",
    "\n",
    "unique_counts"
   ]
  },
  {
   "cell_type": "markdown",
   "id": "29fc54dd",
   "metadata": {},
   "source": [
    "# Data Manipulation"
   ]
  },
  {
   "cell_type": "code",
   "execution_count": 1509,
   "id": "bb5d5776",
   "metadata": {},
   "outputs": [
    {
     "name": "stdout",
     "output_type": "stream",
     "text": [
      "(8807, 10)\n"
     ]
    },
    {
     "data": {
      "text/plain": [
       "Index(['type', 'title', 'director', 'cast', 'country', 'date_added',\n",
       "       'release_year', 'duration', 'listed_in', 'description'],\n",
       "      dtype='object')"
      ]
     },
     "execution_count": 1509,
     "metadata": {},
     "output_type": "execute_result"
    }
   ],
   "source": [
    "df_data = df_data.drop(columns=['show_id', 'rating'])\n",
    "\n",
    "print(df_data.shape)\n",
    "df_data.columns"
   ]
  },
  {
   "cell_type": "code",
   "execution_count": 1510,
   "id": "6eafcbcc",
   "metadata": {},
   "outputs": [],
   "source": [
    "df_data = df_data.rename(columns={\n",
    "    'type': 'tipe',\n",
    "    'title': 'judul film',\n",
    "    'director': 'sutradara',\n",
    "    'cast': 'pemeran',\n",
    "    'country': 'negara',\n",
    "    'date_added': 'tanggal rilis netflix',\n",
    "    'release_year': 'tahun rilis',\n",
    "    'duration': 'durasi film',\n",
    "    'listed_in': 'genre',\n",
    "    'description': 'synopsis'\n",
    "})"
   ]
  },
  {
   "cell_type": "code",
   "execution_count": 1511,
   "id": "20c8355b",
   "metadata": {},
   "outputs": [
    {
     "data": {
      "text/plain": [
       "array(['Movie'], dtype=object)"
      ]
     },
     "execution_count": 1511,
     "metadata": {},
     "output_type": "execute_result"
    }
   ],
   "source": [
    "df_data = df_data[df_data['tipe'] != 'TV Show']\n",
    "\n",
    "df_data['tipe'].unique()"
   ]
  },
  {
   "cell_type": "code",
   "execution_count": 1512,
   "id": "f7b026f5",
   "metadata": {},
   "outputs": [
    {
     "data": {
      "application/vnd.microsoft.datawrangler.viewer.v0+json": {
       "columns": [
        {
         "name": "index",
         "rawType": "object",
         "type": "string"
        },
        {
         "name": "0",
         "rawType": "int64",
         "type": "integer"
        }
       ],
       "ref": "3cc67b0d-33ad-4ad7-89bf-a346a4cbba0a",
       "rows": [
        [
         "tipe",
         "0"
        ],
        [
         "judul film",
         "0"
        ],
        [
         "sutradara",
         "0"
        ],
        [
         "pemeran",
         "0"
        ],
        [
         "negara",
         "0"
        ],
        [
         "tanggal rilis netflix",
         "0"
        ],
        [
         "tahun rilis",
         "0"
        ],
        [
         "durasi film",
         "3"
        ],
        [
         "genre",
         "0"
        ],
        [
         "synopsis",
         "0"
        ]
       ],
       "shape": {
        "columns": 1,
        "rows": 10
       }
      },
      "text/plain": [
       "tipe                     0\n",
       "judul film               0\n",
       "sutradara                0\n",
       "pemeran                  0\n",
       "negara                   0\n",
       "tanggal rilis netflix    0\n",
       "tahun rilis              0\n",
       "durasi film              3\n",
       "genre                    0\n",
       "synopsis                 0\n",
       "dtype: int64"
      ]
     },
     "execution_count": 1512,
     "metadata": {},
     "output_type": "execute_result"
    }
   ],
   "source": [
    "df_data[['sutradara', 'pemeran', 'negara']] = df_data[['sutradara', 'pemeran', 'negara']].fillna('Unknow')\n",
    "\n",
    "df_data.isnull().sum()"
   ]
  },
  {
   "cell_type": "code",
   "execution_count": 1513,
   "id": "8f97504f",
   "metadata": {},
   "outputs": [
    {
     "data": {
      "application/vnd.microsoft.datawrangler.viewer.v0+json": {
       "columns": [
        {
         "name": "index",
         "rawType": "object",
         "type": "string"
        },
        {
         "name": "0",
         "rawType": "int64",
         "type": "integer"
        }
       ],
       "ref": "f2a40002-3e87-41ac-aa5f-3608967eed2a",
       "rows": [
        [
         "tipe",
         "0"
        ],
        [
         "judul film",
         "0"
        ],
        [
         "sutradara",
         "0"
        ],
        [
         "pemeran",
         "0"
        ],
        [
         "negara",
         "0"
        ],
        [
         "tanggal rilis netflix",
         "0"
        ],
        [
         "tahun rilis",
         "0"
        ],
        [
         "durasi film",
         "0"
        ],
        [
         "genre",
         "0"
        ],
        [
         "synopsis",
         "0"
        ]
       ],
       "shape": {
        "columns": 1,
        "rows": 10
       }
      },
      "text/plain": [
       "tipe                     0\n",
       "judul film               0\n",
       "sutradara                0\n",
       "pemeran                  0\n",
       "negara                   0\n",
       "tanggal rilis netflix    0\n",
       "tahun rilis              0\n",
       "durasi film              0\n",
       "genre                    0\n",
       "synopsis                 0\n",
       "dtype: int64"
      ]
     },
     "execution_count": 1513,
     "metadata": {},
     "output_type": "execute_result"
    }
   ],
   "source": [
    "df_data.dropna(inplace=True)\n",
    "\n",
    "df_data.isnull().sum()"
   ]
  },
  {
   "cell_type": "code",
   "execution_count": 1514,
   "id": "ac5ce2bd",
   "metadata": {},
   "outputs": [
    {
     "data": {
      "application/vnd.microsoft.datawrangler.viewer.v0+json": {
       "columns": [
        {
         "name": "index",
         "rawType": "int64",
         "type": "integer"
        },
        {
         "name": "durasi film",
         "rawType": "object",
         "type": "string"
        }
       ],
       "ref": "424fb868-6684-49d5-9a34-7880d72d1869",
       "rows": [
        [
         "0",
         "90"
        ],
        [
         "6",
         "91"
        ],
        [
         "7",
         "125"
        ],
        [
         "9",
         "104"
        ],
        [
         "12",
         "127"
        ],
        [
         "13",
         "91"
        ],
        [
         "16",
         "67"
        ],
        [
         "18",
         "94"
        ],
        [
         "22",
         "161"
        ],
        [
         "23",
         "61"
        ],
        [
         "24",
         "166"
        ],
        [
         "26",
         "147"
        ],
        [
         "27",
         "103"
        ],
        [
         "28",
         "97"
        ],
        [
         "29",
         "106"
        ],
        [
         "30",
         "111"
        ],
        [
         "35",
         "110"
        ],
        [
         "36",
         "105"
        ],
        [
         "38",
         "96"
        ],
        [
         "41",
         "124"
        ],
        [
         "42",
         "116"
        ],
        [
         "43",
         "98"
        ],
        [
         "44",
         "91"
        ],
        [
         "45",
         "23"
        ],
        [
         "46",
         "115"
        ],
        [
         "48",
         "122"
        ],
        [
         "51",
         "99"
        ],
        [
         "52",
         "99"
        ],
        [
         "53",
         "88"
        ],
        [
         "54",
         "100"
        ],
        [
         "56",
         "102"
        ],
        [
         "57",
         "93"
        ],
        [
         "58",
         "96"
        ],
        [
         "59",
         "95"
        ],
        [
         "60",
         "85"
        ],
        [
         "61",
         "97"
        ],
        [
         "62",
         "95"
        ],
        [
         "63",
         "83"
        ],
        [
         "64",
         "103"
        ],
        [
         "68",
         "113"
        ],
        [
         "71",
         "13"
        ],
        [
         "73",
         "182"
        ],
        [
         "75",
         "106"
        ],
        [
         "77",
         "48"
        ],
        [
         "78",
         "145"
        ],
        [
         "79",
         "145"
        ],
        [
         "80",
         "93"
        ],
        [
         "81",
         "106"
        ],
        [
         "84",
         "147"
        ],
        [
         "86",
         "87"
        ]
       ],
       "shape": {
        "columns": 1,
        "rows": 6128
       }
      },
      "text/plain": [
       "0        90\n",
       "6        91\n",
       "7       125\n",
       "9       104\n",
       "12      127\n",
       "       ... \n",
       "8801     96\n",
       "8802    158\n",
       "8804     88\n",
       "8805     88\n",
       "8806    111\n",
       "Name: durasi film, Length: 6128, dtype: object"
      ]
     },
     "execution_count": 1514,
     "metadata": {},
     "output_type": "execute_result"
    }
   ],
   "source": [
    "df_data['durasi film'] = (\n",
    "    df_data['durasi film']\n",
    "    .astype(str) # Pastikan ini selalu string sebelum operasi .str\n",
    "    .str.replace(\" min\", \"\", regex=False)\n",
    "    .str.replace(\" Seasons\", \"\", regex=False)\n",
    "    .str.replace(\" Season\", \"\", regex=False)\n",
    ")\n",
    "df_data['durasi film']"
   ]
  },
  {
   "cell_type": "code",
   "execution_count": 1515,
   "id": "6768df3f",
   "metadata": {},
   "outputs": [
    {
     "data": {
      "application/vnd.microsoft.datawrangler.viewer.v0+json": {
       "columns": [
        {
         "name": "index",
         "rawType": "object",
         "type": "string"
        },
        {
         "name": "0",
         "rawType": "object",
         "type": "unknown"
        }
       ],
       "ref": "a7e35ffe-14c2-4919-990d-abe0871a539b",
       "rows": [
        [
         "tipe",
         "object"
        ],
        [
         "judul film",
         "object"
        ],
        [
         "sutradara",
         "object"
        ],
        [
         "pemeran",
         "object"
        ],
        [
         "negara",
         "object"
        ],
        [
         "tanggal rilis netflix",
         "datetime64[ns]"
        ],
        [
         "tahun rilis",
         "int64"
        ],
        [
         "durasi film",
         "int64"
        ],
        [
         "genre",
         "object"
        ],
        [
         "synopsis",
         "object"
        ]
       ],
       "shape": {
        "columns": 1,
        "rows": 10
       }
      },
      "text/plain": [
       "tipe                             object\n",
       "judul film                       object\n",
       "sutradara                        object\n",
       "pemeran                          object\n",
       "negara                           object\n",
       "tanggal rilis netflix    datetime64[ns]\n",
       "tahun rilis                       int64\n",
       "durasi film                       int64\n",
       "genre                            object\n",
       "synopsis                         object\n",
       "dtype: object"
      ]
     },
     "execution_count": 1515,
     "metadata": {},
     "output_type": "execute_result"
    }
   ],
   "source": [
    "# Ubah release_year menjadi integer\n",
    "df_data['tahun rilis'] = df_data['tahun rilis'].apply(lambda x: ast.literal_eval(x) if isinstance(x, str) else x)\n",
    "df_data['tahun rilis'] = df_data['tahun rilis'].astype(int)\n",
    "\n",
    "# Ubah duration menjadi menit (integer)\n",
    "df_data['durasi film'] = df_data['durasi film'].apply(lambda x: ast.literal_eval(x) if isinstance(x, str) else x)\n",
    "df_data['durasi film'] = df_data['durasi film'].astype(int)\n",
    "\n",
    "# Ubah listed_in menjadi list\n",
    "df_data['genre'] = df_data['genre'].apply(lambda x: [i.strip() for i in x.split(',')] if isinstance(x, str) else [])\n",
    "\n",
    "# Ubah tanggal rilis netflix menjadi datetime\n",
    "df_data['tanggal rilis netflix'] = pd.to_datetime(df_data['tanggal rilis netflix'])\n",
    "\n",
    "\n",
    "df_data.dtypes"
   ]
  },
  {
   "cell_type": "code",
   "execution_count": 1516,
   "id": "5689e329",
   "metadata": {},
   "outputs": [
    {
     "name": "stdout",
     "output_type": "stream",
     "text": [
      "0\n"
     ]
    },
    {
     "data": {
      "application/vnd.microsoft.datawrangler.viewer.v0+json": {
       "columns": [
        {
         "name": "index",
         "rawType": "int64",
         "type": "integer"
        },
        {
         "name": "genre",
         "rawType": "object",
         "type": "unknown"
        },
        {
         "name": "genre_temp",
         "rawType": "object",
         "type": "string"
        }
       ],
       "ref": "5ea99981-618a-4a83-844c-afe5d12a1658",
       "rows": [
        [
         "0",
         "['Documentaries']",
         "Documentaries"
        ],
        [
         "6",
         "['Children & Family Movies']",
         "Children & Family "
        ],
        [
         "7",
         "['Dramas', 'Independent Movies', 'International Movies']",
         "Dramas, Independent, International "
        ],
        [
         "9",
         "['Comedies', 'Dramas']",
         "Comedies, Dramas"
        ],
        [
         "12",
         "['Dramas', 'International Movies']",
         "Dramas, International "
        ],
        [
         "13",
         "['Children & Family Movies', 'Comedies']",
         "Children & Family, Comedies"
        ],
        [
         "16",
         "['Documentaries', 'International Movies']",
         "Documentaries, International "
        ],
        [
         "18",
         "['Thrillers']",
         "Thrillers"
        ],
        [
         "22",
         "['Comedies', 'International Movies']",
         "Comedies, International "
        ],
        [
         "23",
         "['Children & Family Movies']",
         "Children & Family "
        ],
        [
         "24",
         "['Comedies', 'International Movies', 'Romantic Movies']",
         "Comedies, International, Romantic "
        ],
        [
         "26",
         "['Comedies', 'International Movies', 'Music & Musicals']",
         "Comedies, International, Music & Musicals"
        ],
        [
         "27",
         "['Comedies']",
         "Comedies"
        ],
        [
         "28",
         "['Horror Movies', 'Sci-Fi & Fantasy']",
         "Horror, Sci-Fi & Fantasy"
        ],
        [
         "29",
         "['Thrillers']",
         "Thrillers"
        ],
        [
         "30",
         "['Dramas', 'Independent Movies', 'International Movies']",
         "Dramas, Independent, International "
        ],
        [
         "35",
         "['Dramas', 'International Movies', 'Thrillers']",
         "Dramas, International, Thrillers"
        ],
        [
         "36",
         "['Action & Adventure', 'Dramas', 'International Movies']",
         "Action & Adventure, Dramas, International "
        ],
        [
         "38",
         "['Action & Adventure', 'Dramas']",
         "Action & Adventure, Dramas"
        ],
        [
         "41",
         "['Action & Adventure', 'Classic Movies', 'Dramas']",
         "Action & Adventure, Classic, Dramas"
        ],
        [
         "42",
         "['Dramas', 'Horror Movies', 'Thrillers']",
         "Dramas, Horror, Thrillers"
        ],
        [
         "43",
         "['Action & Adventure', 'Horror Movies', 'Thrillers']",
         "Action & Adventure, Horror, Thrillers"
        ],
        [
         "44",
         "['Action & Adventure', 'Horror Movies', 'Thrillers']",
         "Action & Adventure, Horror, Thrillers"
        ],
        [
         "45",
         "['Documentaries']",
         "Documentaries"
        ],
        [
         "46",
         "['Action & Adventure']",
         "Action & Adventure"
        ],
        [
         "48",
         "['Dramas', 'Thrillers']",
         "Dramas, Thrillers"
        ],
        [
         "51",
         "['Action & Adventure', 'Anime Features', 'International Movies']",
         "Action & Adventure, Anime Features, International "
        ],
        [
         "52",
         "['Action & Adventure', 'Anime Features', 'International Movies']",
         "Action & Adventure, Anime Features, International "
        ],
        [
         "53",
         "['Action & Adventure', 'Anime Features', 'International Movies']",
         "Action & Adventure, Anime Features, International "
        ],
        [
         "54",
         "['Action & Adventure', 'Anime Features', 'International Movies']",
         "Action & Adventure, Anime Features, International "
        ],
        [
         "56",
         "['Action & Adventure', 'Anime Features', 'International Movies']",
         "Action & Adventure, Anime Features, International "
        ],
        [
         "57",
         "['Action & Adventure', 'Anime Features', 'International Movies']",
         "Action & Adventure, Anime Features, International "
        ],
        [
         "58",
         "['Action & Adventure', 'Anime Features', 'International Movies']",
         "Action & Adventure, Anime Features, International "
        ],
        [
         "59",
         "['Action & Adventure', 'Anime Features', 'International Movies']",
         "Action & Adventure, Anime Features, International "
        ],
        [
         "60",
         "['Action & Adventure', 'Anime Features', 'International Movies']",
         "Action & Adventure, Anime Features, International "
        ],
        [
         "61",
         "['Action & Adventure', 'Anime Features', 'International Movies']",
         "Action & Adventure, Anime Features, International "
        ],
        [
         "62",
         "['Action & Adventure', 'Anime Features', 'International Movies']",
         "Action & Adventure, Anime Features, International "
        ],
        [
         "63",
         "['Action & Adventure', 'Anime Features', 'International Movies']",
         "Action & Adventure, Anime Features, International "
        ],
        [
         "64",
         "['Children & Family Movies']",
         "Children & Family "
        ],
        [
         "68",
         "['Documentaries', 'International Movies', 'Sports Movies']",
         "Documentaries, International, Sports "
        ],
        [
         "71",
         "['Children & Family Movies']",
         "Children & Family "
        ],
        [
         "73",
         "['Dramas', 'International Movies']",
         "Dramas, International "
        ],
        [
         "75",
         "['Children & Family Movies']",
         "Children & Family "
        ],
        [
         "77",
         "['Children & Family Movies', 'Comedies']",
         "Children & Family, Comedies"
        ],
        [
         "78",
         "['Comedies', 'Dramas', 'International Movies']",
         "Comedies, Dramas, International "
        ],
        [
         "79",
         "['Comedies', 'Dramas', 'International Movies']",
         "Comedies, Dramas, International "
        ],
        [
         "80",
         "['Children & Family Movies']",
         "Children & Family "
        ],
        [
         "81",
         "['Action & Adventure']",
         "Action & Adventure"
        ],
        [
         "84",
         "['Action & Adventure', 'Comedies', 'Dramas']",
         "Action & Adventure, Comedies, Dramas"
        ],
        [
         "86",
         "['International Movies', 'Thrillers']",
         "International, Thrillers"
        ]
       ],
       "shape": {
        "columns": 2,
        "rows": 6128
       }
      },
      "text/html": [
       "<div>\n",
       "<style scoped>\n",
       "    .dataframe tbody tr th:only-of-type {\n",
       "        vertical-align: middle;\n",
       "    }\n",
       "\n",
       "    .dataframe tbody tr th {\n",
       "        vertical-align: top;\n",
       "    }\n",
       "\n",
       "    .dataframe thead th {\n",
       "        text-align: right;\n",
       "    }\n",
       "</style>\n",
       "<table border=\"1\" class=\"dataframe\">\n",
       "  <thead>\n",
       "    <tr style=\"text-align: right;\">\n",
       "      <th></th>\n",
       "      <th>genre</th>\n",
       "      <th>genre_temp</th>\n",
       "    </tr>\n",
       "  </thead>\n",
       "  <tbody>\n",
       "    <tr>\n",
       "      <th>0</th>\n",
       "      <td>[Documentaries]</td>\n",
       "      <td>Documentaries</td>\n",
       "    </tr>\n",
       "    <tr>\n",
       "      <th>6</th>\n",
       "      <td>[Children &amp; Family Movies]</td>\n",
       "      <td>Children &amp; Family</td>\n",
       "    </tr>\n",
       "    <tr>\n",
       "      <th>7</th>\n",
       "      <td>[Dramas, Independent Movies, International Mov...</td>\n",
       "      <td>Dramas, Independent, International</td>\n",
       "    </tr>\n",
       "    <tr>\n",
       "      <th>9</th>\n",
       "      <td>[Comedies, Dramas]</td>\n",
       "      <td>Comedies, Dramas</td>\n",
       "    </tr>\n",
       "    <tr>\n",
       "      <th>12</th>\n",
       "      <td>[Dramas, International Movies]</td>\n",
       "      <td>Dramas, International</td>\n",
       "    </tr>\n",
       "    <tr>\n",
       "      <th>...</th>\n",
       "      <td>...</td>\n",
       "      <td>...</td>\n",
       "    </tr>\n",
       "    <tr>\n",
       "      <th>8801</th>\n",
       "      <td>[Dramas, International Movies, Thrillers]</td>\n",
       "      <td>Dramas, International, Thrillers</td>\n",
       "    </tr>\n",
       "    <tr>\n",
       "      <th>8802</th>\n",
       "      <td>[Cult Movies, Dramas, Thrillers]</td>\n",
       "      <td>Cult, Dramas, Thrillers</td>\n",
       "    </tr>\n",
       "    <tr>\n",
       "      <th>8804</th>\n",
       "      <td>[Comedies, Horror Movies]</td>\n",
       "      <td>Comedies, Horror</td>\n",
       "    </tr>\n",
       "    <tr>\n",
       "      <th>8805</th>\n",
       "      <td>[Children &amp; Family Movies, Comedies]</td>\n",
       "      <td>Children &amp; Family, Comedies</td>\n",
       "    </tr>\n",
       "    <tr>\n",
       "      <th>8806</th>\n",
       "      <td>[Dramas, International Movies, Music &amp; Musicals]</td>\n",
       "      <td>Dramas, International, Music &amp; Musicals</td>\n",
       "    </tr>\n",
       "  </tbody>\n",
       "</table>\n",
       "<p>6128 rows × 2 columns</p>\n",
       "</div>"
      ],
      "text/plain": [
       "                                                  genre  \\\n",
       "0                                       [Documentaries]   \n",
       "6                            [Children & Family Movies]   \n",
       "7     [Dramas, Independent Movies, International Mov...   \n",
       "9                                    [Comedies, Dramas]   \n",
       "12                       [Dramas, International Movies]   \n",
       "...                                                 ...   \n",
       "8801          [Dramas, International Movies, Thrillers]   \n",
       "8802                   [Cult Movies, Dramas, Thrillers]   \n",
       "8804                          [Comedies, Horror Movies]   \n",
       "8805               [Children & Family Movies, Comedies]   \n",
       "8806   [Dramas, International Movies, Music & Musicals]   \n",
       "\n",
       "                                   genre_temp  \n",
       "0                               Documentaries  \n",
       "6                          Children & Family   \n",
       "7         Dramas, Independent, International   \n",
       "9                            Comedies, Dramas  \n",
       "12                     Dramas, International   \n",
       "...                                       ...  \n",
       "8801         Dramas, International, Thrillers  \n",
       "8802                  Cult, Dramas, Thrillers  \n",
       "8804                        Comedies, Horror   \n",
       "8805              Children & Family, Comedies  \n",
       "8806  Dramas, International, Music & Musicals  \n",
       "\n",
       "[6128 rows x 2 columns]"
      ]
     },
     "execution_count": 1516,
     "metadata": {},
     "output_type": "execute_result"
    }
   ],
   "source": [
    "df_data['genre_temp'] = (\n",
    "    df_data['genre']\n",
    "    .astype(str) # Pastikan ini selalu string sebelum operasi .str\n",
    "    .str.replace(\"[\", \"\", regex=False)\n",
    "    .str.replace(\"]\", \"\", regex=False)\n",
    "    .str.replace(\"'\", \"\", regex=False)\n",
    "    .str.replace(\"'s \", \"\", regex=False)\n",
    "    .str.replace(\"\\\"\", \"\", regex=False)\n",
    "    .str.replace(\"TV Shows\", \"\", regex=False)\n",
    "    .str.replace(\"Movies\", \"\", regex=False)\n",
    "    .str.replace(\"TV \", \"\", regex=False)\n",
    "    .str.replace(\"TV\", \"\", regex=False)\n",
    "    .str.replace(\"Series\", \"\", regex=False)\n",
    "    .str.replace(\" ,\", \",\", regex=False)\n",
    "    .str.replace(\"  \", \" \", regex=False)\n",
    "\n",
    "    .str.replace(\"Stand-Up Comedy & Talk Shows\", \"Stand-Up Comedy\", regex=False)\n",
    "    .str.replace(\"Classic & Cult\", \"Cult\", regex=False)\n",
    "    .str.replace(\"Spanish-Language\", \"Spanish\", regex=False)\n",
    ")\n",
    "\n",
    "print(df_data['genre'].isnull().sum())\n",
    "\n",
    "df_data[['genre', 'genre_temp']]"
   ]
  },
  {
   "cell_type": "code",
   "execution_count": 1517,
   "id": "f9f1e339",
   "metadata": {},
   "outputs": [
    {
     "data": {
      "application/vnd.microsoft.datawrangler.viewer.v0+json": {
       "columns": [
        {
         "name": "index",
         "rawType": "int64",
         "type": "integer"
        },
        {
         "name": "negara",
         "rawType": "object",
         "type": "string"
        }
       ],
       "ref": "5992d4c0-286e-4b31-a0ea-b863dea35d5e",
       "rows": [
        [
         "0",
         "United States"
        ],
        [
         "6",
         "Unknow"
        ],
        [
         "7",
         "United States, Ghana, Burkina Faso, United Kingdom, Germany, Ethiopia"
        ],
        [
         "9",
         "United States"
        ],
        [
         "12",
         "Germany, Czech Republic"
        ],
        [
         "13",
         "Unknow"
        ],
        [
         "16",
         "Unknow"
        ],
        [
         "18",
         "Unknow"
        ],
        [
         "22",
         "Unknow"
        ],
        [
         "23",
         "Unknow"
        ],
        [
         "24",
         "India"
        ],
        [
         "26",
         "Unknow"
        ],
        [
         "27",
         "United States"
        ],
        [
         "28",
         "United States"
        ],
        [
         "29",
         "United States, India, France"
        ],
        [
         "30",
         "Unknow"
        ],
        [
         "35",
         "Unknow"
        ],
        [
         "36",
         "Unknow"
        ],
        [
         "38",
         "China, Canada, United States"
        ],
        [
         "41",
         "United States"
        ],
        [
         "42",
         "United States"
        ],
        [
         "43",
         "United States"
        ],
        [
         "44",
         "United States"
        ],
        [
         "45",
         "Unknow"
        ],
        [
         "46",
         "South Africa, United States, Japan"
        ],
        [
         "48",
         "United States"
        ],
        [
         "51",
         "Japan"
        ],
        [
         "52",
         "Japan"
        ],
        [
         "53",
         "Japan"
        ],
        [
         "54",
         "Japan"
        ],
        [
         "56",
         "Japan"
        ],
        [
         "57",
         "Japan"
        ],
        [
         "58",
         "Japan"
        ],
        [
         "59",
         "Japan"
        ],
        [
         "60",
         "Japan"
        ],
        [
         "61",
         "Japan"
        ],
        [
         "62",
         "Japan"
        ],
        [
         "63",
         "Japan"
        ],
        [
         "64",
         "Unknow"
        ],
        [
         "68",
         "Unknow"
        ],
        [
         "71",
         "Unknow"
        ],
        [
         "73",
         "Nigeria"
        ],
        [
         "75",
         "Unknow"
        ],
        [
         "77",
         "Unknow"
        ],
        [
         "78",
         "Unknow"
        ],
        [
         "79",
         "Unknow"
        ],
        [
         "80",
         "Unknow"
        ],
        [
         "81",
         "United States"
        ],
        [
         "84",
         "Nigeria"
        ],
        [
         "86",
         "Unknow"
        ]
       ],
       "shape": {
        "columns": 1,
        "rows": 6128
       }
      },
      "text/plain": [
       "0                                           United States\n",
       "6                                                  Unknow\n",
       "7       United States, Ghana, Burkina Faso, United Kin...\n",
       "9                                           United States\n",
       "12                                Germany, Czech Republic\n",
       "                              ...                        \n",
       "8801                         United Arab Emirates, Jordan\n",
       "8802                                        United States\n",
       "8804                                        United States\n",
       "8805                                        United States\n",
       "8806                                                India\n",
       "Name: negara, Length: 6128, dtype: object"
      ]
     },
     "execution_count": 1517,
     "metadata": {},
     "output_type": "execute_result"
    }
   ],
   "source": [
    "df_data['negara'] = (\n",
    "    df_data['negara']\n",
    "    .astype(str) # Pastikan ini selalu string sebelum operasi .str\n",
    "    .str.replace(\",$\", \"\", regex=True)\n",
    ")\n",
    "\n",
    "df_data['negara']"
   ]
  },
  {
   "cell_type": "code",
   "execution_count": 1518,
   "id": "2dc52fad",
   "metadata": {},
   "outputs": [],
   "source": [
    "# --- Proses untuk kolom 'genre' ---\n",
    "df_data['genre_list'] = df_data['genre_temp'].str.split(', ')\n",
    "df_data = df_data.explode('genre_list')\n",
    "df_data['genre'] = df_data['genre_list'].str.strip()\n",
    "df_data = df_data.drop(columns=['genre_temp', 'genre_list'])\n",
    "\n",
    "# --- Proses untuk kolom 'pemeran' ---\n",
    "df_data['pemeran'] = df_data['pemeran'].astype(str)\n",
    "df_data['pemeran_list'] = df_data['pemeran'].str.split(', ')\n",
    "df_data = df_data.explode('pemeran_list')\n",
    "df_data['pemeran'] = df_data['pemeran_list'].str.strip()\n",
    "df_data = df_data.drop(columns=['pemeran_list'])\n",
    "\n",
    "# --- Proses untuk kolom 'sutradara' ---\n",
    "df_data['sutradara'] = df_data['sutradara'].astype(str)\n",
    "df_data['sutradara_list'] = df_data['sutradara'].str.split(', ')\n",
    "df_data = df_data.explode('sutradara_list')\n",
    "df_data['sutradara'] = df_data['sutradara_list'].str.strip()\n",
    "df_data = df_data.drop(columns=['sutradara_list'])\n",
    "\n",
    "# --- Proses untuk kolom 'negara' ---\n",
    "df_data['negara'] = df_data['negara'].astype(str)\n",
    "df_data['negara_list'] = df_data['negara'].str.split(', ')\n",
    "df_data = df_data.explode('negara_list')\n",
    "df_data['negara'] = df_data['negara_list'].str.strip()\n",
    "df_data = df_data.drop(columns=['negara_list'])"
   ]
  },
  {
   "cell_type": "code",
   "execution_count": 1519,
   "id": "aefd1bc7",
   "metadata": {},
   "outputs": [
    {
     "name": "stdout",
     "output_type": "stream",
     "text": [
      "Jumlah data duplikat:  55\n",
      "jumalah string kosong:  409\n",
      "Jumlah data duplikat:  55\n",
      "jumalah string kosong:  24\n"
     ]
    }
   ],
   "source": [
    "# --- Proses untuk kolom 'genre' ---\n",
    "print('Jumlah data duplikat: ', df_data.duplicated().sum())\n",
    "print('jumalah string kosong: ', df_data['genre'].astype(str).eq('').sum())\n",
    "\n",
    "# --- Proses untuk kolom 'negara' ---\n",
    "print('Jumlah data duplikat: ', df_data.duplicated().sum())\n",
    "print('jumalah string kosong: ', df_data['negara'].astype(str).eq('').sum())"
   ]
  },
  {
   "cell_type": "code",
   "execution_count": 1520,
   "id": "c0e84dcc",
   "metadata": {},
   "outputs": [
    {
     "name": "stdout",
     "output_type": "stream",
     "text": [
      "Jumlah data duplikat:  0 \n",
      "\n",
      "Jumlah nilai kosong : 0\n"
     ]
    },
    {
     "data": {
      "text/plain": [
       "array(['Documentaries', 'Children & Family', 'Dramas', 'Independent',\n",
       "       'International', 'Comedies', 'Thrillers', 'Romantic',\n",
       "       'Music & Musicals', 'Horror', 'Sci-Fi & Fantasy',\n",
       "       'Action & Adventure', 'Classic', 'Anime Features', 'Sports',\n",
       "       'Cult', 'Faith & Spirituality', 'LGBTQ', 'Stand-Up Comedy'],\n",
       "      dtype=object)"
      ]
     },
     "execution_count": 1520,
     "metadata": {},
     "output_type": "execute_result"
    }
   ],
   "source": [
    "df_data = df_data.drop_duplicates()\n",
    "print('Jumlah data duplikat: ', df_data.duplicated().sum(), '\\n')\n",
    "\n",
    "df_data['genre'] = df_data['genre'].replace('', np.nan)\n",
    "df_data = df_data.dropna(subset=['genre'])\n",
    "nan_akhir = df_data['genre'].isnull().sum()\n",
    "print(f\"Jumlah nilai kosong : {nan_akhir}\")\n",
    "\n",
    "df_data['genre'].unique()"
   ]
  },
  {
   "cell_type": "code",
   "execution_count": 1521,
   "id": "da2aafa6",
   "metadata": {},
   "outputs": [
    {
     "name": "stdout",
     "output_type": "stream",
     "text": [
      "Jumlah nilai kosong : 0\n"
     ]
    },
    {
     "data": {
      "text/plain": [
       "array(['United States', 'Unknow', 'Ghana', 'Burkina Faso',\n",
       "       'United Kingdom', 'Germany', 'Ethiopia', 'Czech Republic', 'India',\n",
       "       'France', 'China', 'Canada', 'South Africa', 'Japan', 'Nigeria',\n",
       "       'Spain', 'Australia', 'Mexico', 'Italy', 'Romania', 'Argentina',\n",
       "       'Venezuela', 'Hong Kong', 'Nepal', 'New Zealand', 'Brazil',\n",
       "       'Greece', 'Colombia', 'Belgium', 'Switzerland', 'Bulgaria',\n",
       "       'Algeria', 'Poland', 'Israel', 'Saudi Arabia', 'Thailand',\n",
       "       'Indonesia', 'Egypt', 'Denmark', 'Kuwait', 'Netherlands',\n",
       "       'Singapore', 'Malaysia', 'South Korea', 'Vietnam', 'Hungary',\n",
       "       'Lebanon', 'Syria', 'Philippines', 'United Arab Emirates',\n",
       "       'Sweden', 'Qatar', 'Mauritius', 'Austria', 'Turkey', 'Russia',\n",
       "       'Taiwan', 'Cameroon', 'Palestine', 'Ireland', 'Kenya', 'Chile',\n",
       "       'Uruguay', 'Cambodia', 'Bangladesh', 'Portugal', 'Cayman Islands',\n",
       "       'Norway', 'Iceland', 'Serbia', 'Malta', 'Luxembourg', 'Namibia',\n",
       "       'Angola', 'Peru', 'Mozambique', 'Jordan', 'Zimbabwe', 'Pakistan',\n",
       "       'Guatemala', 'Senegal', 'Finland', 'Iraq', 'Malawi', 'Paraguay',\n",
       "       'Iran', 'Albania', 'Georgia', 'Soviet Union', 'Morocco',\n",
       "       'Slovakia', 'West Germany', 'Ukraine', 'Bermuda', 'Ecuador',\n",
       "       'Armenia', 'Mongolia', 'Bahamas', 'Sri Lanka', 'Latvia',\n",
       "       'Liechtenstein', 'Nicaragua', 'Croatia', 'Slovenia',\n",
       "       'Dominican Republic', 'Samoa', 'Botswana', 'Vatican City',\n",
       "       'Jamaica', 'Kazakhstan', 'Lithuania', 'Afghanistan', 'Somalia',\n",
       "       'Sudan', 'Panama', 'Uganda', 'East Germany', 'Montenegro'],\n",
       "      dtype=object)"
      ]
     },
     "execution_count": 1521,
     "metadata": {},
     "output_type": "execute_result"
    }
   ],
   "source": [
    "df_data['negara'] = df_data['negara'].replace('', np.nan)\n",
    "df_data = df_data.dropna(subset=['negara'])\n",
    "nan_akhir = df_data['negara'].isnull().sum()\n",
    "print(f\"Jumlah nilai kosong : {nan_akhir}\")\n",
    "\n",
    "df_data['negara'].unique()"
   ]
  },
  {
   "cell_type": "markdown",
   "id": "a5613116",
   "metadata": {},
   "source": [
    "# Final Preview"
   ]
  },
  {
   "cell_type": "code",
   "execution_count": 1522,
   "id": "59d91f22",
   "metadata": {},
   "outputs": [
    {
     "data": {
      "application/vnd.microsoft.datawrangler.viewer.v0+json": {
       "columns": [
        {
         "name": "index",
         "rawType": "int64",
         "type": "integer"
        },
        {
         "name": "tipe",
         "rawType": "object",
         "type": "string"
        },
        {
         "name": "judul film",
         "rawType": "object",
         "type": "string"
        },
        {
         "name": "sutradara",
         "rawType": "object",
         "type": "string"
        },
        {
         "name": "pemeran",
         "rawType": "object",
         "type": "string"
        },
        {
         "name": "negara",
         "rawType": "object",
         "type": "string"
        },
        {
         "name": "tanggal rilis netflix",
         "rawType": "datetime64[ns]",
         "type": "datetime"
        },
        {
         "name": "tahun rilis",
         "rawType": "int64",
         "type": "integer"
        },
        {
         "name": "durasi film",
         "rawType": "int64",
         "type": "integer"
        },
        {
         "name": "genre",
         "rawType": "object",
         "type": "string"
        },
        {
         "name": "synopsis",
         "rawType": "object",
         "type": "string"
        }
       ],
       "ref": "860f2a64-4630-488b-8422-06030a5a57f3",
       "rows": [
        [
         "0",
         "Movie",
         "Dick Johnson Is Dead",
         "Kirsten Johnson",
         "Unknow",
         "United States",
         "2021-09-25 00:00:00",
         "2020",
         "90",
         "Documentaries",
         "As her father nears the end of his life, filmmaker Kirsten Johnson stages his death in inventive and comical ways to help them both face the inevitable."
        ],
        [
         "6",
         "Movie",
         "My Little Pony: A New Generation",
         "Robert Cullen",
         "Vanessa Hudgens",
         "Unknow",
         "2021-09-24 00:00:00",
         "2021",
         "91",
         "Children & Family",
         "Equestria's divided. But a bright-eyed hero believes Earth Ponies, Pegasi and Unicorns should be pals — and, hoof to heart, she’s determined to prove it."
        ],
        [
         "6",
         "Movie",
         "My Little Pony: A New Generation",
         "José Luis Ucha",
         "Vanessa Hudgens",
         "Unknow",
         "2021-09-24 00:00:00",
         "2021",
         "91",
         "Children & Family",
         "Equestria's divided. But a bright-eyed hero believes Earth Ponies, Pegasi and Unicorns should be pals — and, hoof to heart, she’s determined to prove it."
        ],
        [
         "6",
         "Movie",
         "My Little Pony: A New Generation",
         "Robert Cullen",
         "Kimiko Glenn",
         "Unknow",
         "2021-09-24 00:00:00",
         "2021",
         "91",
         "Children & Family",
         "Equestria's divided. But a bright-eyed hero believes Earth Ponies, Pegasi and Unicorns should be pals — and, hoof to heart, she’s determined to prove it."
        ],
        [
         "6",
         "Movie",
         "My Little Pony: A New Generation",
         "José Luis Ucha",
         "Kimiko Glenn",
         "Unknow",
         "2021-09-24 00:00:00",
         "2021",
         "91",
         "Children & Family",
         "Equestria's divided. But a bright-eyed hero believes Earth Ponies, Pegasi and Unicorns should be pals — and, hoof to heart, she’s determined to prove it."
        ],
        [
         "6",
         "Movie",
         "My Little Pony: A New Generation",
         "Robert Cullen",
         "James Marsden",
         "Unknow",
         "2021-09-24 00:00:00",
         "2021",
         "91",
         "Children & Family",
         "Equestria's divided. But a bright-eyed hero believes Earth Ponies, Pegasi and Unicorns should be pals — and, hoof to heart, she’s determined to prove it."
        ],
        [
         "6",
         "Movie",
         "My Little Pony: A New Generation",
         "José Luis Ucha",
         "James Marsden",
         "Unknow",
         "2021-09-24 00:00:00",
         "2021",
         "91",
         "Children & Family",
         "Equestria's divided. But a bright-eyed hero believes Earth Ponies, Pegasi and Unicorns should be pals — and, hoof to heart, she’s determined to prove it."
        ],
        [
         "6",
         "Movie",
         "My Little Pony: A New Generation",
         "Robert Cullen",
         "Sofia Carson",
         "Unknow",
         "2021-09-24 00:00:00",
         "2021",
         "91",
         "Children & Family",
         "Equestria's divided. But a bright-eyed hero believes Earth Ponies, Pegasi and Unicorns should be pals — and, hoof to heart, she’s determined to prove it."
        ],
        [
         "6",
         "Movie",
         "My Little Pony: A New Generation",
         "José Luis Ucha",
         "Sofia Carson",
         "Unknow",
         "2021-09-24 00:00:00",
         "2021",
         "91",
         "Children & Family",
         "Equestria's divided. But a bright-eyed hero believes Earth Ponies, Pegasi and Unicorns should be pals — and, hoof to heart, she’s determined to prove it."
        ],
        [
         "6",
         "Movie",
         "My Little Pony: A New Generation",
         "Robert Cullen",
         "Liza Koshy",
         "Unknow",
         "2021-09-24 00:00:00",
         "2021",
         "91",
         "Children & Family",
         "Equestria's divided. But a bright-eyed hero believes Earth Ponies, Pegasi and Unicorns should be pals — and, hoof to heart, she’s determined to prove it."
        ],
        [
         "6",
         "Movie",
         "My Little Pony: A New Generation",
         "José Luis Ucha",
         "Liza Koshy",
         "Unknow",
         "2021-09-24 00:00:00",
         "2021",
         "91",
         "Children & Family",
         "Equestria's divided. But a bright-eyed hero believes Earth Ponies, Pegasi and Unicorns should be pals — and, hoof to heart, she’s determined to prove it."
        ],
        [
         "6",
         "Movie",
         "My Little Pony: A New Generation",
         "Robert Cullen",
         "Ken Jeong",
         "Unknow",
         "2021-09-24 00:00:00",
         "2021",
         "91",
         "Children & Family",
         "Equestria's divided. But a bright-eyed hero believes Earth Ponies, Pegasi and Unicorns should be pals — and, hoof to heart, she’s determined to prove it."
        ],
        [
         "6",
         "Movie",
         "My Little Pony: A New Generation",
         "José Luis Ucha",
         "Ken Jeong",
         "Unknow",
         "2021-09-24 00:00:00",
         "2021",
         "91",
         "Children & Family",
         "Equestria's divided. But a bright-eyed hero believes Earth Ponies, Pegasi and Unicorns should be pals — and, hoof to heart, she’s determined to prove it."
        ],
        [
         "6",
         "Movie",
         "My Little Pony: A New Generation",
         "Robert Cullen",
         "Elizabeth Perkins",
         "Unknow",
         "2021-09-24 00:00:00",
         "2021",
         "91",
         "Children & Family",
         "Equestria's divided. But a bright-eyed hero believes Earth Ponies, Pegasi and Unicorns should be pals — and, hoof to heart, she’s determined to prove it."
        ],
        [
         "6",
         "Movie",
         "My Little Pony: A New Generation",
         "José Luis Ucha",
         "Elizabeth Perkins",
         "Unknow",
         "2021-09-24 00:00:00",
         "2021",
         "91",
         "Children & Family",
         "Equestria's divided. But a bright-eyed hero believes Earth Ponies, Pegasi and Unicorns should be pals — and, hoof to heart, she’s determined to prove it."
        ],
        [
         "6",
         "Movie",
         "My Little Pony: A New Generation",
         "Robert Cullen",
         "Jane Krakowski",
         "Unknow",
         "2021-09-24 00:00:00",
         "2021",
         "91",
         "Children & Family",
         "Equestria's divided. But a bright-eyed hero believes Earth Ponies, Pegasi and Unicorns should be pals — and, hoof to heart, she’s determined to prove it."
        ],
        [
         "6",
         "Movie",
         "My Little Pony: A New Generation",
         "José Luis Ucha",
         "Jane Krakowski",
         "Unknow",
         "2021-09-24 00:00:00",
         "2021",
         "91",
         "Children & Family",
         "Equestria's divided. But a bright-eyed hero believes Earth Ponies, Pegasi and Unicorns should be pals — and, hoof to heart, she’s determined to prove it."
        ],
        [
         "6",
         "Movie",
         "My Little Pony: A New Generation",
         "Robert Cullen",
         "Michael McKean",
         "Unknow",
         "2021-09-24 00:00:00",
         "2021",
         "91",
         "Children & Family",
         "Equestria's divided. But a bright-eyed hero believes Earth Ponies, Pegasi and Unicorns should be pals — and, hoof to heart, she’s determined to prove it."
        ],
        [
         "6",
         "Movie",
         "My Little Pony: A New Generation",
         "José Luis Ucha",
         "Michael McKean",
         "Unknow",
         "2021-09-24 00:00:00",
         "2021",
         "91",
         "Children & Family",
         "Equestria's divided. But a bright-eyed hero believes Earth Ponies, Pegasi and Unicorns should be pals — and, hoof to heart, she’s determined to prove it."
        ],
        [
         "6",
         "Movie",
         "My Little Pony: A New Generation",
         "Robert Cullen",
         "Phil LaMarr",
         "Unknow",
         "2021-09-24 00:00:00",
         "2021",
         "91",
         "Children & Family",
         "Equestria's divided. But a bright-eyed hero believes Earth Ponies, Pegasi and Unicorns should be pals — and, hoof to heart, she’s determined to prove it."
        ],
        [
         "6",
         "Movie",
         "My Little Pony: A New Generation",
         "José Luis Ucha",
         "Phil LaMarr",
         "Unknow",
         "2021-09-24 00:00:00",
         "2021",
         "91",
         "Children & Family",
         "Equestria's divided. But a bright-eyed hero believes Earth Ponies, Pegasi and Unicorns should be pals — and, hoof to heart, she’s determined to prove it."
        ],
        [
         "7",
         "Movie",
         "Sankofa",
         "Haile Gerima",
         "Kofi Ghanaba",
         "United States",
         "2021-09-24 00:00:00",
         "1993",
         "125",
         "Dramas",
         "On a photo shoot in Ghana, an American model slips back in time, becomes enslaved on a plantation and bears witness to the agony of her ancestral past."
        ],
        [
         "7",
         "Movie",
         "Sankofa",
         "Haile Gerima",
         "Kofi Ghanaba",
         "Ghana",
         "2021-09-24 00:00:00",
         "1993",
         "125",
         "Dramas",
         "On a photo shoot in Ghana, an American model slips back in time, becomes enslaved on a plantation and bears witness to the agony of her ancestral past."
        ],
        [
         "7",
         "Movie",
         "Sankofa",
         "Haile Gerima",
         "Kofi Ghanaba",
         "Burkina Faso",
         "2021-09-24 00:00:00",
         "1993",
         "125",
         "Dramas",
         "On a photo shoot in Ghana, an American model slips back in time, becomes enslaved on a plantation and bears witness to the agony of her ancestral past."
        ],
        [
         "7",
         "Movie",
         "Sankofa",
         "Haile Gerima",
         "Kofi Ghanaba",
         "United Kingdom",
         "2021-09-24 00:00:00",
         "1993",
         "125",
         "Dramas",
         "On a photo shoot in Ghana, an American model slips back in time, becomes enslaved on a plantation and bears witness to the agony of her ancestral past."
        ],
        [
         "7",
         "Movie",
         "Sankofa",
         "Haile Gerima",
         "Kofi Ghanaba",
         "Germany",
         "2021-09-24 00:00:00",
         "1993",
         "125",
         "Dramas",
         "On a photo shoot in Ghana, an American model slips back in time, becomes enslaved on a plantation and bears witness to the agony of her ancestral past."
        ],
        [
         "7",
         "Movie",
         "Sankofa",
         "Haile Gerima",
         "Kofi Ghanaba",
         "Ethiopia",
         "2021-09-24 00:00:00",
         "1993",
         "125",
         "Dramas",
         "On a photo shoot in Ghana, an American model slips back in time, becomes enslaved on a plantation and bears witness to the agony of her ancestral past."
        ],
        [
         "7",
         "Movie",
         "Sankofa",
         "Haile Gerima",
         "Oyafunmike Ogunlano",
         "United States",
         "2021-09-24 00:00:00",
         "1993",
         "125",
         "Dramas",
         "On a photo shoot in Ghana, an American model slips back in time, becomes enslaved on a plantation and bears witness to the agony of her ancestral past."
        ],
        [
         "7",
         "Movie",
         "Sankofa",
         "Haile Gerima",
         "Oyafunmike Ogunlano",
         "Ghana",
         "2021-09-24 00:00:00",
         "1993",
         "125",
         "Dramas",
         "On a photo shoot in Ghana, an American model slips back in time, becomes enslaved on a plantation and bears witness to the agony of her ancestral past."
        ],
        [
         "7",
         "Movie",
         "Sankofa",
         "Haile Gerima",
         "Oyafunmike Ogunlano",
         "Burkina Faso",
         "2021-09-24 00:00:00",
         "1993",
         "125",
         "Dramas",
         "On a photo shoot in Ghana, an American model slips back in time, becomes enslaved on a plantation and bears witness to the agony of her ancestral past."
        ],
        [
         "7",
         "Movie",
         "Sankofa",
         "Haile Gerima",
         "Oyafunmike Ogunlano",
         "United Kingdom",
         "2021-09-24 00:00:00",
         "1993",
         "125",
         "Dramas",
         "On a photo shoot in Ghana, an American model slips back in time, becomes enslaved on a plantation and bears witness to the agony of her ancestral past."
        ],
        [
         "7",
         "Movie",
         "Sankofa",
         "Haile Gerima",
         "Oyafunmike Ogunlano",
         "Germany",
         "2021-09-24 00:00:00",
         "1993",
         "125",
         "Dramas",
         "On a photo shoot in Ghana, an American model slips back in time, becomes enslaved on a plantation and bears witness to the agony of her ancestral past."
        ],
        [
         "7",
         "Movie",
         "Sankofa",
         "Haile Gerima",
         "Oyafunmike Ogunlano",
         "Ethiopia",
         "2021-09-24 00:00:00",
         "1993",
         "125",
         "Dramas",
         "On a photo shoot in Ghana, an American model slips back in time, becomes enslaved on a plantation and bears witness to the agony of her ancestral past."
        ],
        [
         "7",
         "Movie",
         "Sankofa",
         "Haile Gerima",
         "Alexandra Duah",
         "United States",
         "2021-09-24 00:00:00",
         "1993",
         "125",
         "Dramas",
         "On a photo shoot in Ghana, an American model slips back in time, becomes enslaved on a plantation and bears witness to the agony of her ancestral past."
        ],
        [
         "7",
         "Movie",
         "Sankofa",
         "Haile Gerima",
         "Alexandra Duah",
         "Ghana",
         "2021-09-24 00:00:00",
         "1993",
         "125",
         "Dramas",
         "On a photo shoot in Ghana, an American model slips back in time, becomes enslaved on a plantation and bears witness to the agony of her ancestral past."
        ],
        [
         "7",
         "Movie",
         "Sankofa",
         "Haile Gerima",
         "Alexandra Duah",
         "Burkina Faso",
         "2021-09-24 00:00:00",
         "1993",
         "125",
         "Dramas",
         "On a photo shoot in Ghana, an American model slips back in time, becomes enslaved on a plantation and bears witness to the agony of her ancestral past."
        ],
        [
         "7",
         "Movie",
         "Sankofa",
         "Haile Gerima",
         "Alexandra Duah",
         "United Kingdom",
         "2021-09-24 00:00:00",
         "1993",
         "125",
         "Dramas",
         "On a photo shoot in Ghana, an American model slips back in time, becomes enslaved on a plantation and bears witness to the agony of her ancestral past."
        ],
        [
         "7",
         "Movie",
         "Sankofa",
         "Haile Gerima",
         "Alexandra Duah",
         "Germany",
         "2021-09-24 00:00:00",
         "1993",
         "125",
         "Dramas",
         "On a photo shoot in Ghana, an American model slips back in time, becomes enslaved on a plantation and bears witness to the agony of her ancestral past."
        ],
        [
         "7",
         "Movie",
         "Sankofa",
         "Haile Gerima",
         "Alexandra Duah",
         "Ethiopia",
         "2021-09-24 00:00:00",
         "1993",
         "125",
         "Dramas",
         "On a photo shoot in Ghana, an American model slips back in time, becomes enslaved on a plantation and bears witness to the agony of her ancestral past."
        ],
        [
         "7",
         "Movie",
         "Sankofa",
         "Haile Gerima",
         "Nick Medley",
         "United States",
         "2021-09-24 00:00:00",
         "1993",
         "125",
         "Dramas",
         "On a photo shoot in Ghana, an American model slips back in time, becomes enslaved on a plantation and bears witness to the agony of her ancestral past."
        ],
        [
         "7",
         "Movie",
         "Sankofa",
         "Haile Gerima",
         "Nick Medley",
         "Ghana",
         "2021-09-24 00:00:00",
         "1993",
         "125",
         "Dramas",
         "On a photo shoot in Ghana, an American model slips back in time, becomes enslaved on a plantation and bears witness to the agony of her ancestral past."
        ],
        [
         "7",
         "Movie",
         "Sankofa",
         "Haile Gerima",
         "Nick Medley",
         "Burkina Faso",
         "2021-09-24 00:00:00",
         "1993",
         "125",
         "Dramas",
         "On a photo shoot in Ghana, an American model slips back in time, becomes enslaved on a plantation and bears witness to the agony of her ancestral past."
        ],
        [
         "7",
         "Movie",
         "Sankofa",
         "Haile Gerima",
         "Nick Medley",
         "United Kingdom",
         "2021-09-24 00:00:00",
         "1993",
         "125",
         "Dramas",
         "On a photo shoot in Ghana, an American model slips back in time, becomes enslaved on a plantation and bears witness to the agony of her ancestral past."
        ],
        [
         "7",
         "Movie",
         "Sankofa",
         "Haile Gerima",
         "Nick Medley",
         "Germany",
         "2021-09-24 00:00:00",
         "1993",
         "125",
         "Dramas",
         "On a photo shoot in Ghana, an American model slips back in time, becomes enslaved on a plantation and bears witness to the agony of her ancestral past."
        ],
        [
         "7",
         "Movie",
         "Sankofa",
         "Haile Gerima",
         "Nick Medley",
         "Ethiopia",
         "2021-09-24 00:00:00",
         "1993",
         "125",
         "Dramas",
         "On a photo shoot in Ghana, an American model slips back in time, becomes enslaved on a plantation and bears witness to the agony of her ancestral past."
        ],
        [
         "7",
         "Movie",
         "Sankofa",
         "Haile Gerima",
         "Mutabaruka",
         "United States",
         "2021-09-24 00:00:00",
         "1993",
         "125",
         "Dramas",
         "On a photo shoot in Ghana, an American model slips back in time, becomes enslaved on a plantation and bears witness to the agony of her ancestral past."
        ],
        [
         "7",
         "Movie",
         "Sankofa",
         "Haile Gerima",
         "Mutabaruka",
         "Ghana",
         "2021-09-24 00:00:00",
         "1993",
         "125",
         "Dramas",
         "On a photo shoot in Ghana, an American model slips back in time, becomes enslaved on a plantation and bears witness to the agony of her ancestral past."
        ],
        [
         "7",
         "Movie",
         "Sankofa",
         "Haile Gerima",
         "Mutabaruka",
         "Burkina Faso",
         "2021-09-24 00:00:00",
         "1993",
         "125",
         "Dramas",
         "On a photo shoot in Ghana, an American model slips back in time, becomes enslaved on a plantation and bears witness to the agony of her ancestral past."
        ],
        [
         "7",
         "Movie",
         "Sankofa",
         "Haile Gerima",
         "Mutabaruka",
         "United Kingdom",
         "2021-09-24 00:00:00",
         "1993",
         "125",
         "Dramas",
         "On a photo shoot in Ghana, an American model slips back in time, becomes enslaved on a plantation and bears witness to the agony of her ancestral past."
        ],
        [
         "7",
         "Movie",
         "Sankofa",
         "Haile Gerima",
         "Mutabaruka",
         "Germany",
         "2021-09-24 00:00:00",
         "1993",
         "125",
         "Dramas",
         "On a photo shoot in Ghana, an American model slips back in time, becomes enslaved on a plantation and bears witness to the agony of her ancestral past."
        ]
       ],
       "shape": {
        "columns": 10,
        "rows": 145352
       }
      },
      "text/html": [
       "<div>\n",
       "<style scoped>\n",
       "    .dataframe tbody tr th:only-of-type {\n",
       "        vertical-align: middle;\n",
       "    }\n",
       "\n",
       "    .dataframe tbody tr th {\n",
       "        vertical-align: top;\n",
       "    }\n",
       "\n",
       "    .dataframe thead th {\n",
       "        text-align: right;\n",
       "    }\n",
       "</style>\n",
       "<table border=\"1\" class=\"dataframe\">\n",
       "  <thead>\n",
       "    <tr style=\"text-align: right;\">\n",
       "      <th></th>\n",
       "      <th>tipe</th>\n",
       "      <th>judul film</th>\n",
       "      <th>sutradara</th>\n",
       "      <th>pemeran</th>\n",
       "      <th>negara</th>\n",
       "      <th>tanggal rilis netflix</th>\n",
       "      <th>tahun rilis</th>\n",
       "      <th>durasi film</th>\n",
       "      <th>genre</th>\n",
       "      <th>synopsis</th>\n",
       "    </tr>\n",
       "  </thead>\n",
       "  <tbody>\n",
       "    <tr>\n",
       "      <th>0</th>\n",
       "      <td>Movie</td>\n",
       "      <td>Dick Johnson Is Dead</td>\n",
       "      <td>Kirsten Johnson</td>\n",
       "      <td>Unknow</td>\n",
       "      <td>United States</td>\n",
       "      <td>2021-09-25</td>\n",
       "      <td>2020</td>\n",
       "      <td>90</td>\n",
       "      <td>Documentaries</td>\n",
       "      <td>As her father nears the end of his life, filmm...</td>\n",
       "    </tr>\n",
       "    <tr>\n",
       "      <th>6</th>\n",
       "      <td>Movie</td>\n",
       "      <td>My Little Pony: A New Generation</td>\n",
       "      <td>Robert Cullen</td>\n",
       "      <td>Vanessa Hudgens</td>\n",
       "      <td>Unknow</td>\n",
       "      <td>2021-09-24</td>\n",
       "      <td>2021</td>\n",
       "      <td>91</td>\n",
       "      <td>Children &amp; Family</td>\n",
       "      <td>Equestria's divided. But a bright-eyed hero be...</td>\n",
       "    </tr>\n",
       "    <tr>\n",
       "      <th>6</th>\n",
       "      <td>Movie</td>\n",
       "      <td>My Little Pony: A New Generation</td>\n",
       "      <td>José Luis Ucha</td>\n",
       "      <td>Vanessa Hudgens</td>\n",
       "      <td>Unknow</td>\n",
       "      <td>2021-09-24</td>\n",
       "      <td>2021</td>\n",
       "      <td>91</td>\n",
       "      <td>Children &amp; Family</td>\n",
       "      <td>Equestria's divided. But a bright-eyed hero be...</td>\n",
       "    </tr>\n",
       "    <tr>\n",
       "      <th>6</th>\n",
       "      <td>Movie</td>\n",
       "      <td>My Little Pony: A New Generation</td>\n",
       "      <td>Robert Cullen</td>\n",
       "      <td>Kimiko Glenn</td>\n",
       "      <td>Unknow</td>\n",
       "      <td>2021-09-24</td>\n",
       "      <td>2021</td>\n",
       "      <td>91</td>\n",
       "      <td>Children &amp; Family</td>\n",
       "      <td>Equestria's divided. But a bright-eyed hero be...</td>\n",
       "    </tr>\n",
       "    <tr>\n",
       "      <th>6</th>\n",
       "      <td>Movie</td>\n",
       "      <td>My Little Pony: A New Generation</td>\n",
       "      <td>José Luis Ucha</td>\n",
       "      <td>Kimiko Glenn</td>\n",
       "      <td>Unknow</td>\n",
       "      <td>2021-09-24</td>\n",
       "      <td>2021</td>\n",
       "      <td>91</td>\n",
       "      <td>Children &amp; Family</td>\n",
       "      <td>Equestria's divided. But a bright-eyed hero be...</td>\n",
       "    </tr>\n",
       "    <tr>\n",
       "      <th>...</th>\n",
       "      <td>...</td>\n",
       "      <td>...</td>\n",
       "      <td>...</td>\n",
       "      <td>...</td>\n",
       "      <td>...</td>\n",
       "      <td>...</td>\n",
       "      <td>...</td>\n",
       "      <td>...</td>\n",
       "      <td>...</td>\n",
       "      <td>...</td>\n",
       "    </tr>\n",
       "    <tr>\n",
       "      <th>8806</th>\n",
       "      <td>Movie</td>\n",
       "      <td>Zubaan</td>\n",
       "      <td>Mozez Singh</td>\n",
       "      <td>Manish Chaudhary</td>\n",
       "      <td>India</td>\n",
       "      <td>2019-03-02</td>\n",
       "      <td>2015</td>\n",
       "      <td>111</td>\n",
       "      <td>Music &amp; Musicals</td>\n",
       "      <td>A scrappy but poor boy worms his way into a ty...</td>\n",
       "    </tr>\n",
       "    <tr>\n",
       "      <th>8806</th>\n",
       "      <td>Movie</td>\n",
       "      <td>Zubaan</td>\n",
       "      <td>Mozez Singh</td>\n",
       "      <td>Meghna Malik</td>\n",
       "      <td>India</td>\n",
       "      <td>2019-03-02</td>\n",
       "      <td>2015</td>\n",
       "      <td>111</td>\n",
       "      <td>Music &amp; Musicals</td>\n",
       "      <td>A scrappy but poor boy worms his way into a ty...</td>\n",
       "    </tr>\n",
       "    <tr>\n",
       "      <th>8806</th>\n",
       "      <td>Movie</td>\n",
       "      <td>Zubaan</td>\n",
       "      <td>Mozez Singh</td>\n",
       "      <td>Malkeet Rauni</td>\n",
       "      <td>India</td>\n",
       "      <td>2019-03-02</td>\n",
       "      <td>2015</td>\n",
       "      <td>111</td>\n",
       "      <td>Music &amp; Musicals</td>\n",
       "      <td>A scrappy but poor boy worms his way into a ty...</td>\n",
       "    </tr>\n",
       "    <tr>\n",
       "      <th>8806</th>\n",
       "      <td>Movie</td>\n",
       "      <td>Zubaan</td>\n",
       "      <td>Mozez Singh</td>\n",
       "      <td>Anita Shabdish</td>\n",
       "      <td>India</td>\n",
       "      <td>2019-03-02</td>\n",
       "      <td>2015</td>\n",
       "      <td>111</td>\n",
       "      <td>Music &amp; Musicals</td>\n",
       "      <td>A scrappy but poor boy worms his way into a ty...</td>\n",
       "    </tr>\n",
       "    <tr>\n",
       "      <th>8806</th>\n",
       "      <td>Movie</td>\n",
       "      <td>Zubaan</td>\n",
       "      <td>Mozez Singh</td>\n",
       "      <td>Chittaranjan Tripathy</td>\n",
       "      <td>India</td>\n",
       "      <td>2019-03-02</td>\n",
       "      <td>2015</td>\n",
       "      <td>111</td>\n",
       "      <td>Music &amp; Musicals</td>\n",
       "      <td>A scrappy but poor boy worms his way into a ty...</td>\n",
       "    </tr>\n",
       "  </tbody>\n",
       "</table>\n",
       "<p>145352 rows × 10 columns</p>\n",
       "</div>"
      ],
      "text/plain": [
       "       tipe                        judul film        sutradara  \\\n",
       "0     Movie              Dick Johnson Is Dead  Kirsten Johnson   \n",
       "6     Movie  My Little Pony: A New Generation    Robert Cullen   \n",
       "6     Movie  My Little Pony: A New Generation   José Luis Ucha   \n",
       "6     Movie  My Little Pony: A New Generation    Robert Cullen   \n",
       "6     Movie  My Little Pony: A New Generation   José Luis Ucha   \n",
       "...     ...                               ...              ...   \n",
       "8806  Movie                            Zubaan      Mozez Singh   \n",
       "8806  Movie                            Zubaan      Mozez Singh   \n",
       "8806  Movie                            Zubaan      Mozez Singh   \n",
       "8806  Movie                            Zubaan      Mozez Singh   \n",
       "8806  Movie                            Zubaan      Mozez Singh   \n",
       "\n",
       "                    pemeran         negara tanggal rilis netflix  tahun rilis  \\\n",
       "0                    Unknow  United States            2021-09-25         2020   \n",
       "6           Vanessa Hudgens         Unknow            2021-09-24         2021   \n",
       "6           Vanessa Hudgens         Unknow            2021-09-24         2021   \n",
       "6              Kimiko Glenn         Unknow            2021-09-24         2021   \n",
       "6              Kimiko Glenn         Unknow            2021-09-24         2021   \n",
       "...                     ...            ...                   ...          ...   \n",
       "8806       Manish Chaudhary          India            2019-03-02         2015   \n",
       "8806           Meghna Malik          India            2019-03-02         2015   \n",
       "8806          Malkeet Rauni          India            2019-03-02         2015   \n",
       "8806         Anita Shabdish          India            2019-03-02         2015   \n",
       "8806  Chittaranjan Tripathy          India            2019-03-02         2015   \n",
       "\n",
       "      durasi film              genre  \\\n",
       "0              90      Documentaries   \n",
       "6              91  Children & Family   \n",
       "6              91  Children & Family   \n",
       "6              91  Children & Family   \n",
       "6              91  Children & Family   \n",
       "...           ...                ...   \n",
       "8806          111   Music & Musicals   \n",
       "8806          111   Music & Musicals   \n",
       "8806          111   Music & Musicals   \n",
       "8806          111   Music & Musicals   \n",
       "8806          111   Music & Musicals   \n",
       "\n",
       "                                               synopsis  \n",
       "0     As her father nears the end of his life, filmm...  \n",
       "6     Equestria's divided. But a bright-eyed hero be...  \n",
       "6     Equestria's divided. But a bright-eyed hero be...  \n",
       "6     Equestria's divided. But a bright-eyed hero be...  \n",
       "6     Equestria's divided. But a bright-eyed hero be...  \n",
       "...                                                 ...  \n",
       "8806  A scrappy but poor boy worms his way into a ty...  \n",
       "8806  A scrappy but poor boy worms his way into a ty...  \n",
       "8806  A scrappy but poor boy worms his way into a ty...  \n",
       "8806  A scrappy but poor boy worms his way into a ty...  \n",
       "8806  A scrappy but poor boy worms his way into a ty...  \n",
       "\n",
       "[145352 rows x 10 columns]"
      ]
     },
     "execution_count": 1522,
     "metadata": {},
     "output_type": "execute_result"
    }
   ],
   "source": [
    "df_data"
   ]
  },
  {
   "cell_type": "markdown",
   "id": "155588f6",
   "metadata": {},
   "source": [
    "# Export"
   ]
  },
  {
   "cell_type": "code",
   "execution_count": 1524,
   "id": "5a742496",
   "metadata": {},
   "outputs": [],
   "source": [
    "df_data.to_excel('../data/data-processed/netflix-film-tv-show.xlsx', index=False)"
   ]
  }
 ],
 "metadata": {
  "kernelspec": {
   "display_name": ".venv",
   "language": "python",
   "name": "python3"
  },
  "language_info": {
   "codemirror_mode": {
    "name": "ipython",
    "version": 3
   },
   "file_extension": ".py",
   "mimetype": "text/x-python",
   "name": "python",
   "nbconvert_exporter": "python",
   "pygments_lexer": "ipython3",
   "version": "3.11.9"
  }
 },
 "nbformat": 4,
 "nbformat_minor": 5
}
